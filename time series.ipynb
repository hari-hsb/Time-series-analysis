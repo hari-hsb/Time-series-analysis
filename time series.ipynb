{
 "cells": [
  {
   "cell_type": "code",
   "execution_count": 195,
   "metadata": {},
   "outputs": [],
   "source": [
    "import numpy as np\n",
    "import pandas as pd\n",
    "import matplotlib.pyplot as plt"
   ]
  },
  {
   "cell_type": "code",
   "execution_count": 196,
   "metadata": {},
   "outputs": [],
   "source": [
    "train=pd.read_csv('Train_SU63ISt.csv')\n",
    "test=pd.read_csv('Test_0qrQsBZ.csv')"
   ]
  },
  {
   "cell_type": "code",
   "execution_count": 197,
   "metadata": {},
   "outputs": [
    {
     "data": {
      "text/html": [
       "<div>\n",
       "<style scoped>\n",
       "    .dataframe tbody tr th:only-of-type {\n",
       "        vertical-align: middle;\n",
       "    }\n",
       "\n",
       "    .dataframe tbody tr th {\n",
       "        vertical-align: top;\n",
       "    }\n",
       "\n",
       "    .dataframe thead th {\n",
       "        text-align: right;\n",
       "    }\n",
       "</style>\n",
       "<table border=\"1\" class=\"dataframe\">\n",
       "  <thead>\n",
       "    <tr style=\"text-align: right;\">\n",
       "      <th></th>\n",
       "      <th>ID</th>\n",
       "      <th>Datetime</th>\n",
       "      <th>Count</th>\n",
       "    </tr>\n",
       "  </thead>\n",
       "  <tbody>\n",
       "    <tr>\n",
       "      <th>18283</th>\n",
       "      <td>18283</td>\n",
       "      <td>25-09-2014 19:00</td>\n",
       "      <td>868</td>\n",
       "    </tr>\n",
       "    <tr>\n",
       "      <th>18284</th>\n",
       "      <td>18284</td>\n",
       "      <td>25-09-2014 20:00</td>\n",
       "      <td>732</td>\n",
       "    </tr>\n",
       "    <tr>\n",
       "      <th>18285</th>\n",
       "      <td>18285</td>\n",
       "      <td>25-09-2014 21:00</td>\n",
       "      <td>702</td>\n",
       "    </tr>\n",
       "    <tr>\n",
       "      <th>18286</th>\n",
       "      <td>18286</td>\n",
       "      <td>25-09-2014 22:00</td>\n",
       "      <td>580</td>\n",
       "    </tr>\n",
       "    <tr>\n",
       "      <th>18287</th>\n",
       "      <td>18287</td>\n",
       "      <td>25-09-2014 23:00</td>\n",
       "      <td>534</td>\n",
       "    </tr>\n",
       "  </tbody>\n",
       "</table>\n",
       "</div>"
      ],
      "text/plain": [
       "          ID          Datetime  Count\n",
       "18283  18283  25-09-2014 19:00    868\n",
       "18284  18284  25-09-2014 20:00    732\n",
       "18285  18285  25-09-2014 21:00    702\n",
       "18286  18286  25-09-2014 22:00    580\n",
       "18287  18287  25-09-2014 23:00    534"
      ]
     },
     "execution_count": 197,
     "metadata": {},
     "output_type": "execute_result"
    }
   ],
   "source": [
    "train_original=train.copy()\n",
    "test_original=test.copy()\n",
    "train.tail()"
   ]
  },
  {
   "cell_type": "code",
   "execution_count": 198,
   "metadata": {},
   "outputs": [
    {
     "data": {
      "text/html": [
       "<div>\n",
       "<style scoped>\n",
       "    .dataframe tbody tr th:only-of-type {\n",
       "        vertical-align: middle;\n",
       "    }\n",
       "\n",
       "    .dataframe tbody tr th {\n",
       "        vertical-align: top;\n",
       "    }\n",
       "\n",
       "    .dataframe thead th {\n",
       "        text-align: right;\n",
       "    }\n",
       "</style>\n",
       "<table border=\"1\" class=\"dataframe\">\n",
       "  <thead>\n",
       "    <tr style=\"text-align: right;\">\n",
       "      <th></th>\n",
       "      <th>ID</th>\n",
       "      <th>Datetime</th>\n",
       "    </tr>\n",
       "  </thead>\n",
       "  <tbody>\n",
       "    <tr>\n",
       "      <th>0</th>\n",
       "      <td>18288</td>\n",
       "      <td>26-09-2014 00:00</td>\n",
       "    </tr>\n",
       "    <tr>\n",
       "      <th>1</th>\n",
       "      <td>18289</td>\n",
       "      <td>26-09-2014 01:00</td>\n",
       "    </tr>\n",
       "    <tr>\n",
       "      <th>2</th>\n",
       "      <td>18290</td>\n",
       "      <td>26-09-2014 02:00</td>\n",
       "    </tr>\n",
       "    <tr>\n",
       "      <th>3</th>\n",
       "      <td>18291</td>\n",
       "      <td>26-09-2014 03:00</td>\n",
       "    </tr>\n",
       "    <tr>\n",
       "      <th>4</th>\n",
       "      <td>18292</td>\n",
       "      <td>26-09-2014 04:00</td>\n",
       "    </tr>\n",
       "  </tbody>\n",
       "</table>\n",
       "</div>"
      ],
      "text/plain": [
       "      ID          Datetime\n",
       "0  18288  26-09-2014 00:00\n",
       "1  18289  26-09-2014 01:00\n",
       "2  18290  26-09-2014 02:00\n",
       "3  18291  26-09-2014 03:00\n",
       "4  18292  26-09-2014 04:00"
      ]
     },
     "execution_count": 198,
     "metadata": {},
     "output_type": "execute_result"
    }
   ],
   "source": [
    "test.head()"
   ]
  },
  {
   "cell_type": "code",
   "execution_count": 199,
   "metadata": {},
   "outputs": [],
   "source": [
    "train['Datetime'] = pd.to_datetime(train.Datetime,format='%d-%m-%Y %H:%M') \n",
    "test['Datetime'] = pd.to_datetime(test.Datetime,format='%d-%m-%Y %H:%M') \n",
    "test_original['Datetime'] = pd.to_datetime(test_original.Datetime,format='%d-%m-%Y %H:%M') \n",
    "train_original['Datetime'] = pd.to_datetime(train_original.Datetime,format='%d-%m-%Y %H:%M')"
   ]
  },
  {
   "cell_type": "code",
   "execution_count": 200,
   "metadata": {},
   "outputs": [],
   "source": [
    "for i in (train,test,train_original,test_original):\n",
    "    i['year']=i.Datetime.dt.year\n",
    "    i['month']=i.Datetime.dt.month\n",
    "    i['day']=i.Datetime.dt.day\n",
    "    i['Hour']=i.Datetime.dt.hour "
   ]
  },
  {
   "cell_type": "code",
   "execution_count": 201,
   "metadata": {},
   "outputs": [
    {
     "data": {
      "text/html": [
       "<div>\n",
       "<style scoped>\n",
       "    .dataframe tbody tr th:only-of-type {\n",
       "        vertical-align: middle;\n",
       "    }\n",
       "\n",
       "    .dataframe tbody tr th {\n",
       "        vertical-align: top;\n",
       "    }\n",
       "\n",
       "    .dataframe thead th {\n",
       "        text-align: right;\n",
       "    }\n",
       "</style>\n",
       "<table border=\"1\" class=\"dataframe\">\n",
       "  <thead>\n",
       "    <tr style=\"text-align: right;\">\n",
       "      <th></th>\n",
       "      <th>ID</th>\n",
       "      <th>Datetime</th>\n",
       "      <th>Count</th>\n",
       "      <th>year</th>\n",
       "      <th>month</th>\n",
       "      <th>day</th>\n",
       "      <th>Hour</th>\n",
       "      <th>day of week</th>\n",
       "    </tr>\n",
       "  </thead>\n",
       "  <tbody>\n",
       "    <tr>\n",
       "      <th>0</th>\n",
       "      <td>0</td>\n",
       "      <td>2012-08-25 00:00:00</td>\n",
       "      <td>8</td>\n",
       "      <td>2012</td>\n",
       "      <td>8</td>\n",
       "      <td>25</td>\n",
       "      <td>0</td>\n",
       "      <td>5</td>\n",
       "    </tr>\n",
       "    <tr>\n",
       "      <th>1</th>\n",
       "      <td>1</td>\n",
       "      <td>2012-08-25 01:00:00</td>\n",
       "      <td>2</td>\n",
       "      <td>2012</td>\n",
       "      <td>8</td>\n",
       "      <td>25</td>\n",
       "      <td>1</td>\n",
       "      <td>5</td>\n",
       "    </tr>\n",
       "    <tr>\n",
       "      <th>2</th>\n",
       "      <td>2</td>\n",
       "      <td>2012-08-25 02:00:00</td>\n",
       "      <td>6</td>\n",
       "      <td>2012</td>\n",
       "      <td>8</td>\n",
       "      <td>25</td>\n",
       "      <td>2</td>\n",
       "      <td>5</td>\n",
       "    </tr>\n",
       "    <tr>\n",
       "      <th>3</th>\n",
       "      <td>3</td>\n",
       "      <td>2012-08-25 03:00:00</td>\n",
       "      <td>2</td>\n",
       "      <td>2012</td>\n",
       "      <td>8</td>\n",
       "      <td>25</td>\n",
       "      <td>3</td>\n",
       "      <td>5</td>\n",
       "    </tr>\n",
       "    <tr>\n",
       "      <th>4</th>\n",
       "      <td>4</td>\n",
       "      <td>2012-08-25 04:00:00</td>\n",
       "      <td>2</td>\n",
       "      <td>2012</td>\n",
       "      <td>8</td>\n",
       "      <td>25</td>\n",
       "      <td>4</td>\n",
       "      <td>5</td>\n",
       "    </tr>\n",
       "  </tbody>\n",
       "</table>\n",
       "</div>"
      ],
      "text/plain": [
       "   ID            Datetime  Count  year  month  day  Hour  day of week\n",
       "0   0 2012-08-25 00:00:00      8  2012      8   25     0            5\n",
       "1   1 2012-08-25 01:00:00      2  2012      8   25     1            5\n",
       "2   2 2012-08-25 02:00:00      6  2012      8   25     2            5\n",
       "3   3 2012-08-25 03:00:00      2  2012      8   25     3            5\n",
       "4   4 2012-08-25 04:00:00      2  2012      8   25     4            5"
      ]
     },
     "execution_count": 201,
     "metadata": {},
     "output_type": "execute_result"
    }
   ],
   "source": [
    "train['day of week']=train['Datetime'].dt.dayofweek\n",
    "temp = train['Datetime']\n",
    "train.head()"
   ]
  },
  {
   "cell_type": "code",
   "execution_count": 202,
   "metadata": {},
   "outputs": [],
   "source": [
    "def applier (row):\n",
    "    if row.dayofweek==5 or row.dayofweek==6:\n",
    "        return 1\n",
    "    else:\n",
    "        return 0"
   ]
  },
  {
   "cell_type": "code",
   "execution_count": 203,
   "metadata": {},
   "outputs": [],
   "source": [
    "train['weekend']=temp.apply(applier)\n",
    "#train.head()"
   ]
  },
  {
   "cell_type": "code",
   "execution_count": 204,
   "metadata": {},
   "outputs": [
    {
     "data": {
      "text/plain": [
       "[<matplotlib.lines.Line2D at 0x1316a485e10>]"
      ]
     },
     "execution_count": 204,
     "metadata": {},
     "output_type": "execute_result"
    },
    {
     "data": {
      "image/png": "[encoded data removed]",
      "text/plain": [
       "<Figure size 1008x504 with 1 Axes>"
      ]
     },
     "metadata": {
      "needs_background": "light"
     },
     "output_type": "display_data"
    }
   ],
   "source": [
    "train.index = train['Datetime']## indexing the Datetime to get the time period on the x-axis.\n",
    "plt.figure(figsize=(14,7))\n",
    "plt.plot(train.Count,label='No of passenger')\n",
    "\n"
   ]
  },
  {
   "cell_type": "code",
   "execution_count": 205,
   "metadata": {},
   "outputs": [],
   "source": [
    "import seaborn as sns"
   ]
  },
  {
   "cell_type": "code",
   "execution_count": 206,
   "metadata": {},
   "outputs": [
    {
     "data": {
      "text/plain": [
       "<matplotlib.axes._subplots.AxesSubplot at 0x13166575ac8>"
      ]
     },
     "execution_count": 206,
     "metadata": {},
     "output_type": "execute_result"
    },
    {
     "data": {
      "image/png": "[encoded data removed]",
      "text/plain": [
       "<Figure size 432x288 with 1 Axes>"
      ]
     },
     "metadata": {
      "needs_background": "light"
     },
     "output_type": "display_data"
    }
   ],
   "source": [
    "train.groupby('year')['Count'].mean().plot.bar()"
   ]
  },
  {
   "cell_type": "code",
   "execution_count": 207,
   "metadata": {},
   "outputs": [
    {
     "data": {
      "text/plain": [
       "<matplotlib.axes._subplots.AxesSubplot at 0x1316a37e5c0>"
      ]
     },
     "execution_count": 207,
     "metadata": {},
     "output_type": "execute_result"
    },
    {
     "data": {
      "image/png": "[encoded data removed]",
      "text/plain": [
       "<Figure size 432x288 with 1 Axes>"
      ]
     },
     "metadata": {
      "needs_background": "light"
     },
     "output_type": "display_data"
    }
   ],
   "source": [
    "train.groupby('month')['Count'].mean().plot.bar()"
   ]
  },
  {
   "cell_type": "code",
   "execution_count": 208,
   "metadata": {},
   "outputs": [
    {
     "data": {
      "text/plain": [
       "<matplotlib.axes._subplots.AxesSubplot at 0x1316a6ff0b8>"
      ]
     },
     "execution_count": 208,
     "metadata": {},
     "output_type": "execute_result"
    },
    {
     "data": {
      "image/png": "[encoded data removed]",
      "text/plain": [
       "<Figure size 1152x576 with 1 Axes>"
      ]
     },
     "metadata": {
      "needs_background": "light"
     },
     "output_type": "display_data"
    }
   ],
   "source": [
    "train.groupby(['year','month'])['Count'].mean().plot(figsize=(16,8))"
   ]
  },
  {
   "cell_type": "code",
   "execution_count": 209,
   "metadata": {},
   "outputs": [
    {
     "data": {
      "text/plain": [
       "<matplotlib.axes._subplots.AxesSubplot at 0x1316abf06d8>"
      ]
     },
     "execution_count": 209,
     "metadata": {},
     "output_type": "execute_result"
    },
    {
     "data": {
      "image/png": "[encoded data removed]",
      "text/plain": [
       "<Figure size 432x288 with 1 Axes>"
      ]
     },
     "metadata": {
      "needs_background": "light"
     },
     "output_type": "display_data"
    }
   ],
   "source": [
    "train.groupby('day')['Count'].mean().plot.bar()"
   ]
  },
  {
   "cell_type": "code",
   "execution_count": 210,
   "metadata": {},
   "outputs": [
    {
     "data": {
      "text/plain": [
       "<matplotlib.axes._subplots.AxesSubplot at 0x1316aa44908>"
      ]
     },
     "execution_count": 210,
     "metadata": {},
     "output_type": "execute_result"
    },
    {
     "data": {
      "image/png": "[encoded data removed]",
      "text/plain": [
       "<Figure size 432x288 with 1 Axes>"
      ]
     },
     "metadata": {
      "needs_background": "light"
     },
     "output_type": "display_data"
    }
   ],
   "source": [
    "train.groupby('Hour')['Count'].mean().plot.bar()"
   ]
  },
  {
   "cell_type": "code",
   "execution_count": 211,
   "metadata": {},
   "outputs": [
    {
     "data": {
      "text/plain": [
       "<matplotlib.axes._subplots.AxesSubplot at 0x1316bc187b8>"
      ]
     },
     "execution_count": 211,
     "metadata": {},
     "output_type": "execute_result"
    },
    {
     "data": {
      "image/png": "[encoded data removed]",
      "text/plain": [
       "<Figure size 432x288 with 1 Axes>"
      ]
     },
     "metadata": {
      "needs_background": "light"
     },
     "output_type": "display_data"
    }
   ],
   "source": [
    "train.groupby('weekend')['Count'].mean().plot.bar()"
   ]
  },
  {
   "cell_type": "code",
   "execution_count": 212,
   "metadata": {},
   "outputs": [
    {
     "data": {
      "text/plain": [
       "<matplotlib.axes._subplots.AxesSubplot at 0x1316bc7a240>"
      ]
     },
     "execution_count": 212,
     "metadata": {},
     "output_type": "execute_result"
    },
    {
     "data": {
      "image/png": "[encoded data removed]",
      "text/plain": [
       "<Figure size 432x288 with 1 Axes>"
      ]
     },
     "metadata": {
      "needs_background": "light"
     },
     "output_type": "display_data"
    }
   ],
   "source": [
    "train.groupby('day of week')['Count'].mean().plot.bar()"
   ]
  },
  {
   "cell_type": "code",
   "execution_count": 213,
   "metadata": {},
   "outputs": [],
   "source": [
    "train=train.drop('ID',axis=1)\n"
   ]
  },
  {
   "cell_type": "code",
   "execution_count": 214,
   "metadata": {},
   "outputs": [
    {
     "data": {
      "text/html": [
       "<div>\n",
       "<style scoped>\n",
       "    .dataframe tbody tr th:only-of-type {\n",
       "        vertical-align: middle;\n",
       "    }\n",
       "\n",
       "    .dataframe tbody tr th {\n",
       "        vertical-align: top;\n",
       "    }\n",
       "\n",
       "    .dataframe thead th {\n",
       "        text-align: right;\n",
       "    }\n",
       "</style>\n",
       "<table border=\"1\" class=\"dataframe\">\n",
       "  <thead>\n",
       "    <tr style=\"text-align: right;\">\n",
       "      <th></th>\n",
       "      <th>Datetime</th>\n",
       "      <th>Count</th>\n",
       "      <th>year</th>\n",
       "      <th>month</th>\n",
       "      <th>day</th>\n",
       "      <th>Hour</th>\n",
       "      <th>day of week</th>\n",
       "      <th>weekend</th>\n",
       "    </tr>\n",
       "    <tr>\n",
       "      <th>Datetime</th>\n",
       "      <th></th>\n",
       "      <th></th>\n",
       "      <th></th>\n",
       "      <th></th>\n",
       "      <th></th>\n",
       "      <th></th>\n",
       "      <th></th>\n",
       "      <th></th>\n",
       "    </tr>\n",
       "  </thead>\n",
       "  <tbody>\n",
       "    <tr>\n",
       "      <th>2012-08-25 00:00:00</th>\n",
       "      <td>2012-08-25 00:00:00</td>\n",
       "      <td>8</td>\n",
       "      <td>2012</td>\n",
       "      <td>8</td>\n",
       "      <td>25</td>\n",
       "      <td>0</td>\n",
       "      <td>5</td>\n",
       "      <td>1</td>\n",
       "    </tr>\n",
       "    <tr>\n",
       "      <th>2012-08-25 01:00:00</th>\n",
       "      <td>2012-08-25 01:00:00</td>\n",
       "      <td>2</td>\n",
       "      <td>2012</td>\n",
       "      <td>8</td>\n",
       "      <td>25</td>\n",
       "      <td>1</td>\n",
       "      <td>5</td>\n",
       "      <td>1</td>\n",
       "    </tr>\n",
       "    <tr>\n",
       "      <th>2012-08-25 02:00:00</th>\n",
       "      <td>2012-08-25 02:00:00</td>\n",
       "      <td>6</td>\n",
       "      <td>2012</td>\n",
       "      <td>8</td>\n",
       "      <td>25</td>\n",
       "      <td>2</td>\n",
       "      <td>5</td>\n",
       "      <td>1</td>\n",
       "    </tr>\n",
       "    <tr>\n",
       "      <th>2012-08-25 03:00:00</th>\n",
       "      <td>2012-08-25 03:00:00</td>\n",
       "      <td>2</td>\n",
       "      <td>2012</td>\n",
       "      <td>8</td>\n",
       "      <td>25</td>\n",
       "      <td>3</td>\n",
       "      <td>5</td>\n",
       "      <td>1</td>\n",
       "    </tr>\n",
       "    <tr>\n",
       "      <th>2012-08-25 04:00:00</th>\n",
       "      <td>2012-08-25 04:00:00</td>\n",
       "      <td>2</td>\n",
       "      <td>2012</td>\n",
       "      <td>8</td>\n",
       "      <td>25</td>\n",
       "      <td>4</td>\n",
       "      <td>5</td>\n",
       "      <td>1</td>\n",
       "    </tr>\n",
       "  </tbody>\n",
       "</table>\n",
       "</div>"
      ],
      "text/plain": [
       "                               Datetime  Count  year  month  day  Hour  \\\n",
       "Datetime                                                                 \n",
       "2012-08-25 00:00:00 2012-08-25 00:00:00      8  2012      8   25     0   \n",
       "2012-08-25 01:00:00 2012-08-25 01:00:00      2  2012      8   25     1   \n",
       "2012-08-25 02:00:00 2012-08-25 02:00:00      6  2012      8   25     2   \n",
       "2012-08-25 03:00:00 2012-08-25 03:00:00      2  2012      8   25     3   \n",
       "2012-08-25 04:00:00 2012-08-25 04:00:00      2  2012      8   25     4   \n",
       "\n",
       "                     day of week  weekend  \n",
       "Datetime                                   \n",
       "2012-08-25 00:00:00            5        1  \n",
       "2012-08-25 01:00:00            5        1  \n",
       "2012-08-25 02:00:00            5        1  \n",
       "2012-08-25 03:00:00            5        1  \n",
       "2012-08-25 04:00:00            5        1  "
      ]
     },
     "execution_count": 214,
     "metadata": {},
     "output_type": "execute_result"
    }
   ],
   "source": [
    "train.head()"
   ]
  },
  {
   "cell_type": "code",
   "execution_count": 215,
   "metadata": {},
   "outputs": [
    {
     "name": "stderr",
     "output_type": "stream",
     "text": [
      "C:\\Users\\Harishankar2\\Anaconda3\\lib\\site-packages\\ipykernel_launcher.py:1: UserWarning: Pandas doesn't allow columns to be created via a new attribute name - see https://pandas.pydata.org/pandas-docs/stable/indexing.html#attribute-access\n",
      "  \"\"\"Entry point for launching an IPython kernel.\n"
     ]
    },
    {
     "data": {
      "text/html": [
       "<div>\n",
       "<style scoped>\n",
       "    .dataframe tbody tr th:only-of-type {\n",
       "        vertical-align: middle;\n",
       "    }\n",
       "\n",
       "    .dataframe tbody tr th {\n",
       "        vertical-align: top;\n",
       "    }\n",
       "\n",
       "    .dataframe thead th {\n",
       "        text-align: right;\n",
       "    }\n",
       "</style>\n",
       "<table border=\"1\" class=\"dataframe\">\n",
       "  <thead>\n",
       "    <tr style=\"text-align: right;\">\n",
       "      <th></th>\n",
       "      <th>Datetime</th>\n",
       "      <th>Count</th>\n",
       "      <th>year</th>\n",
       "      <th>month</th>\n",
       "      <th>day</th>\n",
       "      <th>Hour</th>\n",
       "      <th>day of week</th>\n",
       "      <th>weekend</th>\n",
       "    </tr>\n",
       "    <tr>\n",
       "      <th>Datetime</th>\n",
       "      <th></th>\n",
       "      <th></th>\n",
       "      <th></th>\n",
       "      <th></th>\n",
       "      <th></th>\n",
       "      <th></th>\n",
       "      <th></th>\n",
       "      <th></th>\n",
       "    </tr>\n",
       "  </thead>\n",
       "  <tbody>\n",
       "    <tr>\n",
       "      <th>2012-08-25 00:00:00</th>\n",
       "      <td>2012-08-25 00:00:00</td>\n",
       "      <td>8</td>\n",
       "      <td>2012</td>\n",
       "      <td>8</td>\n",
       "      <td>25</td>\n",
       "      <td>0</td>\n",
       "      <td>5</td>\n",
       "      <td>1</td>\n",
       "    </tr>\n",
       "    <tr>\n",
       "      <th>2012-08-25 01:00:00</th>\n",
       "      <td>2012-08-25 01:00:00</td>\n",
       "      <td>2</td>\n",
       "      <td>2012</td>\n",
       "      <td>8</td>\n",
       "      <td>25</td>\n",
       "      <td>1</td>\n",
       "      <td>5</td>\n",
       "      <td>1</td>\n",
       "    </tr>\n",
       "    <tr>\n",
       "      <th>2012-08-25 02:00:00</th>\n",
       "      <td>2012-08-25 02:00:00</td>\n",
       "      <td>6</td>\n",
       "      <td>2012</td>\n",
       "      <td>8</td>\n",
       "      <td>25</td>\n",
       "      <td>2</td>\n",
       "      <td>5</td>\n",
       "      <td>1</td>\n",
       "    </tr>\n",
       "    <tr>\n",
       "      <th>2012-08-25 03:00:00</th>\n",
       "      <td>2012-08-25 03:00:00</td>\n",
       "      <td>2</td>\n",
       "      <td>2012</td>\n",
       "      <td>8</td>\n",
       "      <td>25</td>\n",
       "      <td>3</td>\n",
       "      <td>5</td>\n",
       "      <td>1</td>\n",
       "    </tr>\n",
       "    <tr>\n",
       "      <th>2012-08-25 04:00:00</th>\n",
       "      <td>2012-08-25 04:00:00</td>\n",
       "      <td>2</td>\n",
       "      <td>2012</td>\n",
       "      <td>8</td>\n",
       "      <td>25</td>\n",
       "      <td>4</td>\n",
       "      <td>5</td>\n",
       "      <td>1</td>\n",
       "    </tr>\n",
       "  </tbody>\n",
       "</table>\n",
       "</div>"
      ],
      "text/plain": [
       "                               Datetime  Count  year  month  day  Hour  \\\n",
       "Datetime                                                                 \n",
       "2012-08-25 00:00:00 2012-08-25 00:00:00      8  2012      8   25     0   \n",
       "2012-08-25 01:00:00 2012-08-25 01:00:00      2  2012      8   25     1   \n",
       "2012-08-25 02:00:00 2012-08-25 02:00:00      6  2012      8   25     2   \n",
       "2012-08-25 03:00:00 2012-08-25 03:00:00      2  2012      8   25     3   \n",
       "2012-08-25 04:00:00 2012-08-25 04:00:00      2  2012      8   25     4   \n",
       "\n",
       "                     day of week  weekend  \n",
       "Datetime                                   \n",
       "2012-08-25 00:00:00            5        1  \n",
       "2012-08-25 01:00:00            5        1  \n",
       "2012-08-25 02:00:00            5        1  \n",
       "2012-08-25 03:00:00            5        1  \n",
       "2012-08-25 04:00:00            5        1  "
      ]
     },
     "execution_count": 215,
     "metadata": {},
     "output_type": "execute_result"
    }
   ],
   "source": [
    "train.Timestamp = pd.to_datetime(train.Datetime,format='%d-%m-%Y %H:%M') \n",
    "train.index = train.Timestamp \n",
    "train.head()"
   ]
  },
  {
   "cell_type": "code",
   "execution_count": 216,
   "metadata": {},
   "outputs": [
    {
     "data": {
      "text/plain": [
       "(110, 7)"
      ]
     },
     "execution_count": 216,
     "metadata": {},
     "output_type": "execute_result"
    }
   ],
   "source": [
    "hourly = train.resample('H').mean() \n",
    "# Converting to daily mean \n",
    "daily = train.resample('D').mean() \n",
    "# Converting to weekly mean \n",
    "weekly = train.resample('W').mean() \n",
    "# Converting to monthly mean \n",
    "monthly = train.resample('M').mean()\n",
    "weekly.shape\n"
   ]
  },
  {
   "cell_type": "code",
   "execution_count": 217,
   "metadata": {},
   "outputs": [
    {
     "data": {
      "image/png": "[encoded data removed]",
      "text/plain": [
       "<Figure size 1080x576 with 4 Axes>"
      ]
     },
     "metadata": {
      "needs_background": "light"
     },
     "output_type": "display_data"
    }
   ],
   "source": [
    "fig, axs = plt.subplots(4,1) \n",
    "hourly.Count.plot(figsize=(15,8), title= 'Hourly', fontsize=14, ax=axs[0]) \n",
    "daily.Count.plot(figsize=(15,8), title= 'Daily', fontsize=14, ax=axs[1]) \n",
    "weekly.Count.plot(figsize=(15,8), title= 'Weekly', fontsize=14, ax=axs[2]) \n",
    "monthly.Count.plot(figsize=(15,8), title= 'Monthly', fontsize=14, ax=axs[3]) \n",
    "\n",
    "plt.show()"
   ]
  },
  {
   "cell_type": "code",
   "execution_count": 220,
   "metadata": {},
   "outputs": [
    {
     "name": "stderr",
     "output_type": "stream",
     "text": [
      "C:\\Users\\Harishankar2\\Anaconda3\\lib\\site-packages\\ipykernel_launcher.py:1: UserWarning: Pandas doesn't allow columns to be created via a new attribute name - see https://pandas.pydata.org/pandas-docs/stable/indexing.html#attribute-access\n",
      "  \"\"\"Entry point for launching an IPython kernel.\n"
     ]
    }
   ],
   "source": [
    "test.Timestamp = pd.to_datetime(test.Datetime,format='%d-%m-%Y %H:%M') \n",
    "test.index = test.Timestamp  \n"
   ]
  },
  {
   "cell_type": "code",
   "execution_count": 221,
   "metadata": {},
   "outputs": [
    {
     "data": {
      "text/html": [
       "<div>\n",
       "<style scoped>\n",
       "    .dataframe tbody tr th:only-of-type {\n",
       "        vertical-align: middle;\n",
       "    }\n",
       "\n",
       "    .dataframe tbody tr th {\n",
       "        vertical-align: top;\n",
       "    }\n",
       "\n",
       "    .dataframe thead th {\n",
       "        text-align: right;\n",
       "    }\n",
       "</style>\n",
       "<table border=\"1\" class=\"dataframe\">\n",
       "  <thead>\n",
       "    <tr style=\"text-align: right;\">\n",
       "      <th></th>\n",
       "      <th>ID</th>\n",
       "      <th>year</th>\n",
       "      <th>month</th>\n",
       "      <th>day</th>\n",
       "      <th>Hour</th>\n",
       "    </tr>\n",
       "    <tr>\n",
       "      <th>Datetime</th>\n",
       "      <th></th>\n",
       "      <th></th>\n",
       "      <th></th>\n",
       "      <th></th>\n",
       "      <th></th>\n",
       "    </tr>\n",
       "  </thead>\n",
       "  <tbody>\n",
       "    <tr>\n",
       "      <th>2014-09-26</th>\n",
       "      <td>18299.5</td>\n",
       "      <td>2014.0</td>\n",
       "      <td>9.0</td>\n",
       "      <td>26.0</td>\n",
       "      <td>11.5</td>\n",
       "    </tr>\n",
       "    <tr>\n",
       "      <th>2014-09-27</th>\n",
       "      <td>18323.5</td>\n",
       "      <td>2014.0</td>\n",
       "      <td>9.0</td>\n",
       "      <td>27.0</td>\n",
       "      <td>11.5</td>\n",
       "    </tr>\n",
       "    <tr>\n",
       "      <th>2014-09-28</th>\n",
       "      <td>18347.5</td>\n",
       "      <td>2014.0</td>\n",
       "      <td>9.0</td>\n",
       "      <td>28.0</td>\n",
       "      <td>11.5</td>\n",
       "    </tr>\n",
       "    <tr>\n",
       "      <th>2014-09-29</th>\n",
       "      <td>18371.5</td>\n",
       "      <td>2014.0</td>\n",
       "      <td>9.0</td>\n",
       "      <td>29.0</td>\n",
       "      <td>11.5</td>\n",
       "    </tr>\n",
       "    <tr>\n",
       "      <th>2014-09-30</th>\n",
       "      <td>18395.5</td>\n",
       "      <td>2014.0</td>\n",
       "      <td>9.0</td>\n",
       "      <td>30.0</td>\n",
       "      <td>11.5</td>\n",
       "    </tr>\n",
       "  </tbody>\n",
       "</table>\n",
       "</div>"
      ],
      "text/plain": [
       "                 ID    year  month   day  Hour\n",
       "Datetime                                      \n",
       "2014-09-26  18299.5  2014.0    9.0  26.0  11.5\n",
       "2014-09-27  18323.5  2014.0    9.0  27.0  11.5\n",
       "2014-09-28  18347.5  2014.0    9.0  28.0  11.5\n",
       "2014-09-29  18371.5  2014.0    9.0  29.0  11.5\n",
       "2014-09-30  18395.5  2014.0    9.0  30.0  11.5"
      ]
     },
     "execution_count": 221,
     "metadata": {},
     "output_type": "execute_result"
    }
   ],
   "source": [
    "test = test.resample('D').mean()\n",
    "test.head()"
   ]
  },
  {
   "cell_type": "code",
   "execution_count": 224,
   "metadata": {},
   "outputs": [],
   "source": [
    "train = train.resample('D').mean()"
   ]
  },
  {
   "cell_type": "code",
   "execution_count": 225,
   "metadata": {},
   "outputs": [
    {
     "data": {
      "text/html": [
       "<div>\n",
       "<style scoped>\n",
       "    .dataframe tbody tr th:only-of-type {\n",
       "        vertical-align: middle;\n",
       "    }\n",
       "\n",
       "    .dataframe tbody tr th {\n",
       "        vertical-align: top;\n",
       "    }\n",
       "\n",
       "    .dataframe thead th {\n",
       "        text-align: right;\n",
       "    }\n",
       "</style>\n",
       "<table border=\"1\" class=\"dataframe\">\n",
       "  <thead>\n",
       "    <tr style=\"text-align: right;\">\n",
       "      <th></th>\n",
       "      <th>Count</th>\n",
       "      <th>year</th>\n",
       "      <th>month</th>\n",
       "      <th>day</th>\n",
       "      <th>Hour</th>\n",
       "      <th>day of week</th>\n",
       "      <th>weekend</th>\n",
       "    </tr>\n",
       "    <tr>\n",
       "      <th>Datetime</th>\n",
       "      <th></th>\n",
       "      <th></th>\n",
       "      <th></th>\n",
       "      <th></th>\n",
       "      <th></th>\n",
       "      <th></th>\n",
       "      <th></th>\n",
       "    </tr>\n",
       "  </thead>\n",
       "  <tbody>\n",
       "    <tr>\n",
       "      <th>2012-08-25</th>\n",
       "      <td>3.166667</td>\n",
       "      <td>2012.0</td>\n",
       "      <td>8.0</td>\n",
       "      <td>25.0</td>\n",
       "      <td>11.5</td>\n",
       "      <td>5.0</td>\n",
       "      <td>1.0</td>\n",
       "    </tr>\n",
       "    <tr>\n",
       "      <th>2012-08-26</th>\n",
       "      <td>3.666667</td>\n",
       "      <td>2012.0</td>\n",
       "      <td>8.0</td>\n",
       "      <td>26.0</td>\n",
       "      <td>11.5</td>\n",
       "      <td>6.0</td>\n",
       "      <td>1.0</td>\n",
       "    </tr>\n",
       "    <tr>\n",
       "      <th>2012-08-27</th>\n",
       "      <td>2.583333</td>\n",
       "      <td>2012.0</td>\n",
       "      <td>8.0</td>\n",
       "      <td>27.0</td>\n",
       "      <td>11.5</td>\n",
       "      <td>0.0</td>\n",
       "      <td>0.0</td>\n",
       "    </tr>\n",
       "    <tr>\n",
       "      <th>2012-08-28</th>\n",
       "      <td>2.416667</td>\n",
       "      <td>2012.0</td>\n",
       "      <td>8.0</td>\n",
       "      <td>28.0</td>\n",
       "      <td>11.5</td>\n",
       "      <td>1.0</td>\n",
       "      <td>0.0</td>\n",
       "    </tr>\n",
       "    <tr>\n",
       "      <th>2012-08-29</th>\n",
       "      <td>2.500000</td>\n",
       "      <td>2012.0</td>\n",
       "      <td>8.0</td>\n",
       "      <td>29.0</td>\n",
       "      <td>11.5</td>\n",
       "      <td>2.0</td>\n",
       "      <td>0.0</td>\n",
       "    </tr>\n",
       "    <tr>\n",
       "      <th>2012-08-30</th>\n",
       "      <td>3.083333</td>\n",
       "      <td>2012.0</td>\n",
       "      <td>8.0</td>\n",
       "      <td>30.0</td>\n",
       "      <td>11.5</td>\n",
       "      <td>3.0</td>\n",
       "      <td>0.0</td>\n",
       "    </tr>\n",
       "    <tr>\n",
       "      <th>2012-08-31</th>\n",
       "      <td>3.250000</td>\n",
       "      <td>2012.0</td>\n",
       "      <td>8.0</td>\n",
       "      <td>31.0</td>\n",
       "      <td>11.5</td>\n",
       "      <td>4.0</td>\n",
       "      <td>0.0</td>\n",
       "    </tr>\n",
       "    <tr>\n",
       "      <th>2012-09-01</th>\n",
       "      <td>4.666667</td>\n",
       "      <td>2012.0</td>\n",
       "      <td>9.0</td>\n",
       "      <td>1.0</td>\n",
       "      <td>11.5</td>\n",
       "      <td>5.0</td>\n",
       "      <td>1.0</td>\n",
       "    </tr>\n",
       "    <tr>\n",
       "      <th>2012-09-02</th>\n",
       "      <td>4.916667</td>\n",
       "      <td>2012.0</td>\n",
       "      <td>9.0</td>\n",
       "      <td>2.0</td>\n",
       "      <td>11.5</td>\n",
       "      <td>6.0</td>\n",
       "      <td>1.0</td>\n",
       "    </tr>\n",
       "    <tr>\n",
       "      <th>2012-09-03</th>\n",
       "      <td>4.500000</td>\n",
       "      <td>2012.0</td>\n",
       "      <td>9.0</td>\n",
       "      <td>3.0</td>\n",
       "      <td>11.5</td>\n",
       "      <td>0.0</td>\n",
       "      <td>0.0</td>\n",
       "    </tr>\n",
       "    <tr>\n",
       "      <th>2012-09-04</th>\n",
       "      <td>2.750000</td>\n",
       "      <td>2012.0</td>\n",
       "      <td>9.0</td>\n",
       "      <td>4.0</td>\n",
       "      <td>11.5</td>\n",
       "      <td>1.0</td>\n",
       "      <td>0.0</td>\n",
       "    </tr>\n",
       "    <tr>\n",
       "      <th>2012-09-05</th>\n",
       "      <td>4.333333</td>\n",
       "      <td>2012.0</td>\n",
       "      <td>9.0</td>\n",
       "      <td>5.0</td>\n",
       "      <td>11.5</td>\n",
       "      <td>2.0</td>\n",
       "      <td>0.0</td>\n",
       "    </tr>\n",
       "    <tr>\n",
       "      <th>2012-09-06</th>\n",
       "      <td>4.166667</td>\n",
       "      <td>2012.0</td>\n",
       "      <td>9.0</td>\n",
       "      <td>6.0</td>\n",
       "      <td>11.5</td>\n",
       "      <td>3.0</td>\n",
       "      <td>0.0</td>\n",
       "    </tr>\n",
       "    <tr>\n",
       "      <th>2012-09-07</th>\n",
       "      <td>2.833333</td>\n",
       "      <td>2012.0</td>\n",
       "      <td>9.0</td>\n",
       "      <td>7.0</td>\n",
       "      <td>11.5</td>\n",
       "      <td>4.0</td>\n",
       "      <td>0.0</td>\n",
       "    </tr>\n",
       "    <tr>\n",
       "      <th>2012-09-08</th>\n",
       "      <td>4.166667</td>\n",
       "      <td>2012.0</td>\n",
       "      <td>9.0</td>\n",
       "      <td>8.0</td>\n",
       "      <td>11.5</td>\n",
       "      <td>5.0</td>\n",
       "      <td>1.0</td>\n",
       "    </tr>\n",
       "    <tr>\n",
       "      <th>2012-09-09</th>\n",
       "      <td>2.833333</td>\n",
       "      <td>2012.0</td>\n",
       "      <td>9.0</td>\n",
       "      <td>9.0</td>\n",
       "      <td>11.5</td>\n",
       "      <td>6.0</td>\n",
       "      <td>1.0</td>\n",
       "    </tr>\n",
       "    <tr>\n",
       "      <th>2012-09-10</th>\n",
       "      <td>2.666667</td>\n",
       "      <td>2012.0</td>\n",
       "      <td>9.0</td>\n",
       "      <td>10.0</td>\n",
       "      <td>11.5</td>\n",
       "      <td>0.0</td>\n",
       "      <td>0.0</td>\n",
       "    </tr>\n",
       "    <tr>\n",
       "      <th>2012-09-11</th>\n",
       "      <td>2.416667</td>\n",
       "      <td>2012.0</td>\n",
       "      <td>9.0</td>\n",
       "      <td>11.0</td>\n",
       "      <td>11.5</td>\n",
       "      <td>1.0</td>\n",
       "      <td>0.0</td>\n",
       "    </tr>\n",
       "    <tr>\n",
       "      <th>2012-09-12</th>\n",
       "      <td>3.500000</td>\n",
       "      <td>2012.0</td>\n",
       "      <td>9.0</td>\n",
       "      <td>12.0</td>\n",
       "      <td>11.5</td>\n",
       "      <td>2.0</td>\n",
       "      <td>0.0</td>\n",
       "    </tr>\n",
       "    <tr>\n",
       "      <th>2012-09-13</th>\n",
       "      <td>3.000000</td>\n",
       "      <td>2012.0</td>\n",
       "      <td>9.0</td>\n",
       "      <td>13.0</td>\n",
       "      <td>11.5</td>\n",
       "      <td>3.0</td>\n",
       "      <td>0.0</td>\n",
       "    </tr>\n",
       "    <tr>\n",
       "      <th>2012-09-14</th>\n",
       "      <td>3.500000</td>\n",
       "      <td>2012.0</td>\n",
       "      <td>9.0</td>\n",
       "      <td>14.0</td>\n",
       "      <td>11.5</td>\n",
       "      <td>4.0</td>\n",
       "      <td>0.0</td>\n",
       "    </tr>\n",
       "    <tr>\n",
       "      <th>2012-09-15</th>\n",
       "      <td>3.833333</td>\n",
       "      <td>2012.0</td>\n",
       "      <td>9.0</td>\n",
       "      <td>15.0</td>\n",
       "      <td>11.5</td>\n",
       "      <td>5.0</td>\n",
       "      <td>1.0</td>\n",
       "    </tr>\n",
       "    <tr>\n",
       "      <th>2012-09-16</th>\n",
       "      <td>2.916667</td>\n",
       "      <td>2012.0</td>\n",
       "      <td>9.0</td>\n",
       "      <td>16.0</td>\n",
       "      <td>11.5</td>\n",
       "      <td>6.0</td>\n",
       "      <td>1.0</td>\n",
       "    </tr>\n",
       "    <tr>\n",
       "      <th>2012-09-17</th>\n",
       "      <td>3.833333</td>\n",
       "      <td>2012.0</td>\n",
       "      <td>9.0</td>\n",
       "      <td>17.0</td>\n",
       "      <td>11.5</td>\n",
       "      <td>0.0</td>\n",
       "      <td>0.0</td>\n",
       "    </tr>\n",
       "    <tr>\n",
       "      <th>2012-09-18</th>\n",
       "      <td>7.833333</td>\n",
       "      <td>2012.0</td>\n",
       "      <td>9.0</td>\n",
       "      <td>18.0</td>\n",
       "      <td>11.5</td>\n",
       "      <td>1.0</td>\n",
       "      <td>0.0</td>\n",
       "    </tr>\n",
       "    <tr>\n",
       "      <th>2012-09-19</th>\n",
       "      <td>6.583333</td>\n",
       "      <td>2012.0</td>\n",
       "      <td>9.0</td>\n",
       "      <td>19.0</td>\n",
       "      <td>11.5</td>\n",
       "      <td>2.0</td>\n",
       "      <td>0.0</td>\n",
       "    </tr>\n",
       "    <tr>\n",
       "      <th>2012-09-20</th>\n",
       "      <td>3.500000</td>\n",
       "      <td>2012.0</td>\n",
       "      <td>9.0</td>\n",
       "      <td>20.0</td>\n",
       "      <td>11.5</td>\n",
       "      <td>3.0</td>\n",
       "      <td>0.0</td>\n",
       "    </tr>\n",
       "    <tr>\n",
       "      <th>2012-09-21</th>\n",
       "      <td>3.750000</td>\n",
       "      <td>2012.0</td>\n",
       "      <td>9.0</td>\n",
       "      <td>21.0</td>\n",
       "      <td>11.5</td>\n",
       "      <td>4.0</td>\n",
       "      <td>0.0</td>\n",
       "    </tr>\n",
       "    <tr>\n",
       "      <th>2012-09-22</th>\n",
       "      <td>3.250000</td>\n",
       "      <td>2012.0</td>\n",
       "      <td>9.0</td>\n",
       "      <td>22.0</td>\n",
       "      <td>11.5</td>\n",
       "      <td>5.0</td>\n",
       "      <td>1.0</td>\n",
       "    </tr>\n",
       "    <tr>\n",
       "      <th>2012-09-23</th>\n",
       "      <td>4.250000</td>\n",
       "      <td>2012.0</td>\n",
       "      <td>9.0</td>\n",
       "      <td>23.0</td>\n",
       "      <td>11.5</td>\n",
       "      <td>6.0</td>\n",
       "      <td>1.0</td>\n",
       "    </tr>\n",
       "    <tr>\n",
       "      <th>...</th>\n",
       "      <td>...</td>\n",
       "      <td>...</td>\n",
       "      <td>...</td>\n",
       "      <td>...</td>\n",
       "      <td>...</td>\n",
       "      <td>...</td>\n",
       "      <td>...</td>\n",
       "    </tr>\n",
       "    <tr>\n",
       "      <th>2014-08-27</th>\n",
       "      <td>520.666667</td>\n",
       "      <td>2014.0</td>\n",
       "      <td>8.0</td>\n",
       "      <td>27.0</td>\n",
       "      <td>11.5</td>\n",
       "      <td>2.0</td>\n",
       "      <td>0.0</td>\n",
       "    </tr>\n",
       "    <tr>\n",
       "      <th>2014-08-28</th>\n",
       "      <td>379.250000</td>\n",
       "      <td>2014.0</td>\n",
       "      <td>8.0</td>\n",
       "      <td>28.0</td>\n",
       "      <td>11.5</td>\n",
       "      <td>3.0</td>\n",
       "      <td>0.0</td>\n",
       "    </tr>\n",
       "    <tr>\n",
       "      <th>2014-08-29</th>\n",
       "      <td>413.750000</td>\n",
       "      <td>2014.0</td>\n",
       "      <td>8.0</td>\n",
       "      <td>29.0</td>\n",
       "      <td>11.5</td>\n",
       "      <td>4.0</td>\n",
       "      <td>0.0</td>\n",
       "    </tr>\n",
       "    <tr>\n",
       "      <th>2014-08-30</th>\n",
       "      <td>352.583333</td>\n",
       "      <td>2014.0</td>\n",
       "      <td>8.0</td>\n",
       "      <td>30.0</td>\n",
       "      <td>11.5</td>\n",
       "      <td>5.0</td>\n",
       "      <td>1.0</td>\n",
       "    </tr>\n",
       "    <tr>\n",
       "      <th>2014-08-31</th>\n",
       "      <td>290.166667</td>\n",
       "      <td>2014.0</td>\n",
       "      <td>8.0</td>\n",
       "      <td>31.0</td>\n",
       "      <td>11.5</td>\n",
       "      <td>6.0</td>\n",
       "      <td>1.0</td>\n",
       "    </tr>\n",
       "    <tr>\n",
       "      <th>2014-09-01</th>\n",
       "      <td>436.000000</td>\n",
       "      <td>2014.0</td>\n",
       "      <td>9.0</td>\n",
       "      <td>1.0</td>\n",
       "      <td>11.5</td>\n",
       "      <td>0.0</td>\n",
       "      <td>0.0</td>\n",
       "    </tr>\n",
       "    <tr>\n",
       "      <th>2014-09-02</th>\n",
       "      <td>573.500000</td>\n",
       "      <td>2014.0</td>\n",
       "      <td>9.0</td>\n",
       "      <td>2.0</td>\n",
       "      <td>11.5</td>\n",
       "      <td>1.0</td>\n",
       "      <td>0.0</td>\n",
       "    </tr>\n",
       "    <tr>\n",
       "      <th>2014-09-03</th>\n",
       "      <td>509.000000</td>\n",
       "      <td>2014.0</td>\n",
       "      <td>9.0</td>\n",
       "      <td>3.0</td>\n",
       "      <td>11.5</td>\n",
       "      <td>2.0</td>\n",
       "      <td>0.0</td>\n",
       "    </tr>\n",
       "    <tr>\n",
       "      <th>2014-09-04</th>\n",
       "      <td>446.000000</td>\n",
       "      <td>2014.0</td>\n",
       "      <td>9.0</td>\n",
       "      <td>4.0</td>\n",
       "      <td>11.5</td>\n",
       "      <td>3.0</td>\n",
       "      <td>0.0</td>\n",
       "    </tr>\n",
       "    <tr>\n",
       "      <th>2014-09-05</th>\n",
       "      <td>532.500000</td>\n",
       "      <td>2014.0</td>\n",
       "      <td>9.0</td>\n",
       "      <td>5.0</td>\n",
       "      <td>11.5</td>\n",
       "      <td>4.0</td>\n",
       "      <td>0.0</td>\n",
       "    </tr>\n",
       "    <tr>\n",
       "      <th>2014-09-06</th>\n",
       "      <td>339.833333</td>\n",
       "      <td>2014.0</td>\n",
       "      <td>9.0</td>\n",
       "      <td>6.0</td>\n",
       "      <td>11.5</td>\n",
       "      <td>5.0</td>\n",
       "      <td>1.0</td>\n",
       "    </tr>\n",
       "    <tr>\n",
       "      <th>2014-09-07</th>\n",
       "      <td>286.500000</td>\n",
       "      <td>2014.0</td>\n",
       "      <td>9.0</td>\n",
       "      <td>7.0</td>\n",
       "      <td>11.5</td>\n",
       "      <td>6.0</td>\n",
       "      <td>1.0</td>\n",
       "    </tr>\n",
       "    <tr>\n",
       "      <th>2014-09-08</th>\n",
       "      <td>426.000000</td>\n",
       "      <td>2014.0</td>\n",
       "      <td>9.0</td>\n",
       "      <td>8.0</td>\n",
       "      <td>11.5</td>\n",
       "      <td>0.0</td>\n",
       "      <td>0.0</td>\n",
       "    </tr>\n",
       "    <tr>\n",
       "      <th>2014-09-09</th>\n",
       "      <td>546.000000</td>\n",
       "      <td>2014.0</td>\n",
       "      <td>9.0</td>\n",
       "      <td>9.0</td>\n",
       "      <td>11.5</td>\n",
       "      <td>1.0</td>\n",
       "      <td>0.0</td>\n",
       "    </tr>\n",
       "    <tr>\n",
       "      <th>2014-09-10</th>\n",
       "      <td>483.000000</td>\n",
       "      <td>2014.0</td>\n",
       "      <td>9.0</td>\n",
       "      <td>10.0</td>\n",
       "      <td>11.5</td>\n",
       "      <td>2.0</td>\n",
       "      <td>0.0</td>\n",
       "    </tr>\n",
       "    <tr>\n",
       "      <th>2014-09-11</th>\n",
       "      <td>424.166667</td>\n",
       "      <td>2014.0</td>\n",
       "      <td>9.0</td>\n",
       "      <td>11.0</td>\n",
       "      <td>11.5</td>\n",
       "      <td>3.0</td>\n",
       "      <td>0.0</td>\n",
       "    </tr>\n",
       "    <tr>\n",
       "      <th>2014-09-12</th>\n",
       "      <td>375.416667</td>\n",
       "      <td>2014.0</td>\n",
       "      <td>9.0</td>\n",
       "      <td>12.0</td>\n",
       "      <td>11.5</td>\n",
       "      <td>4.0</td>\n",
       "      <td>0.0</td>\n",
       "    </tr>\n",
       "    <tr>\n",
       "      <th>2014-09-13</th>\n",
       "      <td>253.333333</td>\n",
       "      <td>2014.0</td>\n",
       "      <td>9.0</td>\n",
       "      <td>13.0</td>\n",
       "      <td>11.5</td>\n",
       "      <td>5.0</td>\n",
       "      <td>1.0</td>\n",
       "    </tr>\n",
       "    <tr>\n",
       "      <th>2014-09-14</th>\n",
       "      <td>238.166667</td>\n",
       "      <td>2014.0</td>\n",
       "      <td>9.0</td>\n",
       "      <td>14.0</td>\n",
       "      <td>11.5</td>\n",
       "      <td>6.0</td>\n",
       "      <td>1.0</td>\n",
       "    </tr>\n",
       "    <tr>\n",
       "      <th>2014-09-15</th>\n",
       "      <td>445.333333</td>\n",
       "      <td>2014.0</td>\n",
       "      <td>9.0</td>\n",
       "      <td>15.0</td>\n",
       "      <td>11.5</td>\n",
       "      <td>0.0</td>\n",
       "      <td>0.0</td>\n",
       "    </tr>\n",
       "    <tr>\n",
       "      <th>2014-09-16</th>\n",
       "      <td>670.000000</td>\n",
       "      <td>2014.0</td>\n",
       "      <td>9.0</td>\n",
       "      <td>16.0</td>\n",
       "      <td>11.5</td>\n",
       "      <td>1.0</td>\n",
       "      <td>0.0</td>\n",
       "    </tr>\n",
       "    <tr>\n",
       "      <th>2014-09-17</th>\n",
       "      <td>569.833333</td>\n",
       "      <td>2014.0</td>\n",
       "      <td>9.0</td>\n",
       "      <td>17.0</td>\n",
       "      <td>11.5</td>\n",
       "      <td>2.0</td>\n",
       "      <td>0.0</td>\n",
       "    </tr>\n",
       "    <tr>\n",
       "      <th>2014-09-18</th>\n",
       "      <td>458.333333</td>\n",
       "      <td>2014.0</td>\n",
       "      <td>9.0</td>\n",
       "      <td>18.0</td>\n",
       "      <td>11.5</td>\n",
       "      <td>3.0</td>\n",
       "      <td>0.0</td>\n",
       "    </tr>\n",
       "    <tr>\n",
       "      <th>2014-09-19</th>\n",
       "      <td>543.083333</td>\n",
       "      <td>2014.0</td>\n",
       "      <td>9.0</td>\n",
       "      <td>19.0</td>\n",
       "      <td>11.5</td>\n",
       "      <td>4.0</td>\n",
       "      <td>0.0</td>\n",
       "    </tr>\n",
       "    <tr>\n",
       "      <th>2014-09-20</th>\n",
       "      <td>341.083333</td>\n",
       "      <td>2014.0</td>\n",
       "      <td>9.0</td>\n",
       "      <td>20.0</td>\n",
       "      <td>11.5</td>\n",
       "      <td>5.0</td>\n",
       "      <td>1.0</td>\n",
       "    </tr>\n",
       "    <tr>\n",
       "      <th>2014-09-21</th>\n",
       "      <td>379.250000</td>\n",
       "      <td>2014.0</td>\n",
       "      <td>9.0</td>\n",
       "      <td>21.0</td>\n",
       "      <td>11.5</td>\n",
       "      <td>6.0</td>\n",
       "      <td>1.0</td>\n",
       "    </tr>\n",
       "    <tr>\n",
       "      <th>2014-09-22</th>\n",
       "      <td>588.166667</td>\n",
       "      <td>2014.0</td>\n",
       "      <td>9.0</td>\n",
       "      <td>22.0</td>\n",
       "      <td>11.5</td>\n",
       "      <td>0.0</td>\n",
       "      <td>0.0</td>\n",
       "    </tr>\n",
       "    <tr>\n",
       "      <th>2014-09-23</th>\n",
       "      <td>554.333333</td>\n",
       "      <td>2014.0</td>\n",
       "      <td>9.0</td>\n",
       "      <td>23.0</td>\n",
       "      <td>11.5</td>\n",
       "      <td>1.0</td>\n",
       "      <td>0.0</td>\n",
       "    </tr>\n",
       "    <tr>\n",
       "      <th>2014-09-24</th>\n",
       "      <td>702.333333</td>\n",
       "      <td>2014.0</td>\n",
       "      <td>9.0</td>\n",
       "      <td>24.0</td>\n",
       "      <td>11.5</td>\n",
       "      <td>2.0</td>\n",
       "      <td>0.0</td>\n",
       "    </tr>\n",
       "    <tr>\n",
       "      <th>2014-09-25</th>\n",
       "      <td>589.666667</td>\n",
       "      <td>2014.0</td>\n",
       "      <td>9.0</td>\n",
       "      <td>25.0</td>\n",
       "      <td>11.5</td>\n",
       "      <td>3.0</td>\n",
       "      <td>0.0</td>\n",
       "    </tr>\n",
       "  </tbody>\n",
       "</table>\n",
       "<p>762 rows × 7 columns</p>\n",
       "</div>"
      ],
      "text/plain": [
       "                 Count    year  month   day  Hour  day of week  weekend\n",
       "Datetime                                                               \n",
       "2012-08-25    3.166667  2012.0    8.0  25.0  11.5          5.0      1.0\n",
       "2012-08-26    3.666667  2012.0    8.0  26.0  11.5          6.0      1.0\n",
       "2012-08-27    2.583333  2012.0    8.0  27.0  11.5          0.0      0.0\n",
       "2012-08-28    2.416667  2012.0    8.0  28.0  11.5          1.0      0.0\n",
       "2012-08-29    2.500000  2012.0    8.0  29.0  11.5          2.0      0.0\n",
       "2012-08-30    3.083333  2012.0    8.0  30.0  11.5          3.0      0.0\n",
       "2012-08-31    3.250000  2012.0    8.0  31.0  11.5          4.0      0.0\n",
       "2012-09-01    4.666667  2012.0    9.0   1.0  11.5          5.0      1.0\n",
       "2012-09-02    4.916667  2012.0    9.0   2.0  11.5          6.0      1.0\n",
       "2012-09-03    4.500000  2012.0    9.0   3.0  11.5          0.0      0.0\n",
       "2012-09-04    2.750000  2012.0    9.0   4.0  11.5          1.0      0.0\n",
       "2012-09-05    4.333333  2012.0    9.0   5.0  11.5          2.0      0.0\n",
       "2012-09-06    4.166667  2012.0    9.0   6.0  11.5          3.0      0.0\n",
       "2012-09-07    2.833333  2012.0    9.0   7.0  11.5          4.0      0.0\n",
       "2012-09-08    4.166667  2012.0    9.0   8.0  11.5          5.0      1.0\n",
       "2012-09-09    2.833333  2012.0    9.0   9.0  11.5          6.0      1.0\n",
       "2012-09-10    2.666667  2012.0    9.0  10.0  11.5          0.0      0.0\n",
       "2012-09-11    2.416667  2012.0    9.0  11.0  11.5          1.0      0.0\n",
       "2012-09-12    3.500000  2012.0    9.0  12.0  11.5          2.0      0.0\n",
       "2012-09-13    3.000000  2012.0    9.0  13.0  11.5          3.0      0.0\n",
       "2012-09-14    3.500000  2012.0    9.0  14.0  11.5          4.0      0.0\n",
       "2012-09-15    3.833333  2012.0    9.0  15.0  11.5          5.0      1.0\n",
       "2012-09-16    2.916667  2012.0    9.0  16.0  11.5          6.0      1.0\n",
       "2012-09-17    3.833333  2012.0    9.0  17.0  11.5          0.0      0.0\n",
       "2012-09-18    7.833333  2012.0    9.0  18.0  11.5          1.0      0.0\n",
       "2012-09-19    6.583333  2012.0    9.0  19.0  11.5          2.0      0.0\n",
       "2012-09-20    3.500000  2012.0    9.0  20.0  11.5          3.0      0.0\n",
       "2012-09-21    3.750000  2012.0    9.0  21.0  11.5          4.0      0.0\n",
       "2012-09-22    3.250000  2012.0    9.0  22.0  11.5          5.0      1.0\n",
       "2012-09-23    4.250000  2012.0    9.0  23.0  11.5          6.0      1.0\n",
       "...                ...     ...    ...   ...   ...          ...      ...\n",
       "2014-08-27  520.666667  2014.0    8.0  27.0  11.5          2.0      0.0\n",
       "2014-08-28  379.250000  2014.0    8.0  28.0  11.5          3.0      0.0\n",
       "2014-08-29  413.750000  2014.0    8.0  29.0  11.5          4.0      0.0\n",
       "2014-08-30  352.583333  2014.0    8.0  30.0  11.5          5.0      1.0\n",
       "2014-08-31  290.166667  2014.0    8.0  31.0  11.5          6.0      1.0\n",
       "2014-09-01  436.000000  2014.0    9.0   1.0  11.5          0.0      0.0\n",
       "2014-09-02  573.500000  2014.0    9.0   2.0  11.5          1.0      0.0\n",
       "2014-09-03  509.000000  2014.0    9.0   3.0  11.5          2.0      0.0\n",
       "2014-09-04  446.000000  2014.0    9.0   4.0  11.5          3.0      0.0\n",
       "2014-09-05  532.500000  2014.0    9.0   5.0  11.5          4.0      0.0\n",
       "2014-09-06  339.833333  2014.0    9.0   6.0  11.5          5.0      1.0\n",
       "2014-09-07  286.500000  2014.0    9.0   7.0  11.5          6.0      1.0\n",
       "2014-09-08  426.000000  2014.0    9.0   8.0  11.5          0.0      0.0\n",
       "2014-09-09  546.000000  2014.0    9.0   9.0  11.5          1.0      0.0\n",
       "2014-09-10  483.000000  2014.0    9.0  10.0  11.5          2.0      0.0\n",
       "2014-09-11  424.166667  2014.0    9.0  11.0  11.5          3.0      0.0\n",
       "2014-09-12  375.416667  2014.0    9.0  12.0  11.5          4.0      0.0\n",
       "2014-09-13  253.333333  2014.0    9.0  13.0  11.5          5.0      1.0\n",
       "2014-09-14  238.166667  2014.0    9.0  14.0  11.5          6.0      1.0\n",
       "2014-09-15  445.333333  2014.0    9.0  15.0  11.5          0.0      0.0\n",
       "2014-09-16  670.000000  2014.0    9.0  16.0  11.5          1.0      0.0\n",
       "2014-09-17  569.833333  2014.0    9.0  17.0  11.5          2.0      0.0\n",
       "2014-09-18  458.333333  2014.0    9.0  18.0  11.5          3.0      0.0\n",
       "2014-09-19  543.083333  2014.0    9.0  19.0  11.5          4.0      0.0\n",
       "2014-09-20  341.083333  2014.0    9.0  20.0  11.5          5.0      1.0\n",
       "2014-09-21  379.250000  2014.0    9.0  21.0  11.5          6.0      1.0\n",
       "2014-09-22  588.166667  2014.0    9.0  22.0  11.5          0.0      0.0\n",
       "2014-09-23  554.333333  2014.0    9.0  23.0  11.5          1.0      0.0\n",
       "2014-09-24  702.333333  2014.0    9.0  24.0  11.5          2.0      0.0\n",
       "2014-09-25  589.666667  2014.0    9.0  25.0  11.5          3.0      0.0\n",
       "\n",
       "[762 rows x 7 columns]"
      ]
     },
     "execution_count": 225,
     "metadata": {},
     "output_type": "execute_result"
    }
   ],
   "source": [
    "train"
   ]
  },
  {
   "cell_type": "code",
   "execution_count": 226,
   "metadata": {},
   "outputs": [],
   "source": [
    "Train=train.loc['2012-08-25':'2014-06-24']\n",
    "Validation=train.loc['2014-06-25':'2014-09-25']"
   ]
  },
  {
   "cell_type": "code",
   "execution_count": 227,
   "metadata": {},
   "outputs": [
    {
     "data": {
      "text/plain": [
       "(669, 7)"
      ]
     },
     "execution_count": 227,
     "metadata": {},
     "output_type": "execute_result"
    }
   ],
   "source": [
    "Train.shape"
   ]
  },
  {
   "cell_type": "code",
   "execution_count": 228,
   "metadata": {},
   "outputs": [
    {
     "data": {
      "text/plain": [
       "Text(0, 0.5, 'passenger count')"
      ]
     },
     "execution_count": 228,
     "metadata": {},
     "output_type": "execute_result"
    },
    {
     "data": {
      "image/png": "[encoded data removed]",
      "text/plain": [
       "<Figure size 1080x576 with 1 Axes>"
      ]
     },
     "metadata": {
      "needs_background": "light"
     },
     "output_type": "display_data"
    }
   ],
   "source": [
    "Train.Count.plot(figsize=(15,8),label='Train')\n",
    "Validation.Count.plot(figsize=(15,8),label='Test')\n",
    "plt.legend()\n",
    "plt.xlabel(\"Date time\")\n",
    "plt.ylabel('passenger count')"
   ]
  },
  {
   "cell_type": "markdown",
   "metadata": {},
   "source": [
    "# Naive Approch\n"
   ]
  },
  {
   "cell_type": "markdown",
   "metadata": {},
   "source": [
    "\n",
    "we assume that the next expected point is equal to the last observed point. So we can expect a straight horizontal line as the prediction"
   ]
  },
  {
   "cell_type": "code",
   "execution_count": 229,
   "metadata": {},
   "outputs": [
    {
     "name": "stderr",
     "output_type": "stream",
     "text": [
      "C:\\Users\\Harishankar2\\Anaconda3\\lib\\site-packages\\ipykernel_launcher.py:1: SettingWithCopyWarning: \n",
      "A value is trying to be set on a copy of a slice from a DataFrame.\n",
      "Try using .loc[row_indexer,col_indexer] = value instead\n",
      "\n",
      "See the caveats in the documentation: http://pandas.pydata.org/pandas-docs/stable/indexing.html#indexing-view-versus-copy\n",
      "  \"\"\"Entry point for launching an IPython kernel.\n"
     ]
    }
   ],
   "source": [
    "Validation['Naive pred']=Train['Count'][len(Train.Count)-1]"
   ]
  },
  {
   "cell_type": "code",
   "execution_count": 230,
   "metadata": {},
   "outputs": [
    {
     "data": {
      "text/html": [
       "<div>\n",
       "<style scoped>\n",
       "    .dataframe tbody tr th:only-of-type {\n",
       "        vertical-align: middle;\n",
       "    }\n",
       "\n",
       "    .dataframe tbody tr th {\n",
       "        vertical-align: top;\n",
       "    }\n",
       "\n",
       "    .dataframe thead th {\n",
       "        text-align: right;\n",
       "    }\n",
       "</style>\n",
       "<table border=\"1\" class=\"dataframe\">\n",
       "  <thead>\n",
       "    <tr style=\"text-align: right;\">\n",
       "      <th></th>\n",
       "      <th>Count</th>\n",
       "      <th>year</th>\n",
       "      <th>month</th>\n",
       "      <th>day</th>\n",
       "      <th>Hour</th>\n",
       "      <th>day of week</th>\n",
       "      <th>weekend</th>\n",
       "      <th>Naive pred</th>\n",
       "    </tr>\n",
       "    <tr>\n",
       "      <th>Datetime</th>\n",
       "      <th></th>\n",
       "      <th></th>\n",
       "      <th></th>\n",
       "      <th></th>\n",
       "      <th></th>\n",
       "      <th></th>\n",
       "      <th></th>\n",
       "      <th></th>\n",
       "    </tr>\n",
       "  </thead>\n",
       "  <tbody>\n",
       "    <tr>\n",
       "      <th>2014-06-25</th>\n",
       "      <td>353.666667</td>\n",
       "      <td>2014.0</td>\n",
       "      <td>6.0</td>\n",
       "      <td>25.0</td>\n",
       "      <td>11.5</td>\n",
       "      <td>2.0</td>\n",
       "      <td>0.0</td>\n",
       "      <td>372.166667</td>\n",
       "    </tr>\n",
       "    <tr>\n",
       "      <th>2014-06-26</th>\n",
       "      <td>395.250000</td>\n",
       "      <td>2014.0</td>\n",
       "      <td>6.0</td>\n",
       "      <td>26.0</td>\n",
       "      <td>11.5</td>\n",
       "      <td>3.0</td>\n",
       "      <td>0.0</td>\n",
       "      <td>372.166667</td>\n",
       "    </tr>\n",
       "    <tr>\n",
       "      <th>2014-06-27</th>\n",
       "      <td>282.333333</td>\n",
       "      <td>2014.0</td>\n",
       "      <td>6.0</td>\n",
       "      <td>27.0</td>\n",
       "      <td>11.5</td>\n",
       "      <td>4.0</td>\n",
       "      <td>0.0</td>\n",
       "      <td>372.166667</td>\n",
       "    </tr>\n",
       "    <tr>\n",
       "      <th>2014-06-28</th>\n",
       "      <td>218.250000</td>\n",
       "      <td>2014.0</td>\n",
       "      <td>6.0</td>\n",
       "      <td>28.0</td>\n",
       "      <td>11.5</td>\n",
       "      <td>5.0</td>\n",
       "      <td>1.0</td>\n",
       "      <td>372.166667</td>\n",
       "    </tr>\n",
       "    <tr>\n",
       "      <th>2014-06-29</th>\n",
       "      <td>196.250000</td>\n",
       "      <td>2014.0</td>\n",
       "      <td>6.0</td>\n",
       "      <td>29.0</td>\n",
       "      <td>11.5</td>\n",
       "      <td>6.0</td>\n",
       "      <td>1.0</td>\n",
       "      <td>372.166667</td>\n",
       "    </tr>\n",
       "  </tbody>\n",
       "</table>\n",
       "</div>"
      ],
      "text/plain": [
       "                 Count    year  month   day  Hour  day of week  weekend  \\\n",
       "Datetime                                                                  \n",
       "2014-06-25  353.666667  2014.0    6.0  25.0  11.5          2.0      0.0   \n",
       "2014-06-26  395.250000  2014.0    6.0  26.0  11.5          3.0      0.0   \n",
       "2014-06-27  282.333333  2014.0    6.0  27.0  11.5          4.0      0.0   \n",
       "2014-06-28  218.250000  2014.0    6.0  28.0  11.5          5.0      1.0   \n",
       "2014-06-29  196.250000  2014.0    6.0  29.0  11.5          6.0      1.0   \n",
       "\n",
       "            Naive pred  \n",
       "Datetime                \n",
       "2014-06-25  372.166667  \n",
       "2014-06-26  372.166667  \n",
       "2014-06-27  372.166667  \n",
       "2014-06-28  372.166667  \n",
       "2014-06-29  372.166667  "
      ]
     },
     "execution_count": 230,
     "metadata": {},
     "output_type": "execute_result"
    }
   ],
   "source": [
    "Validation.head()"
   ]
  },
  {
   "cell_type": "code",
   "execution_count": 231,
   "metadata": {},
   "outputs": [
    {
     "data": {
      "text/plain": [
       "Text(0, 0.5, 'Passenger count')"
      ]
     },
     "execution_count": 231,
     "metadata": {},
     "output_type": "execute_result"
    },
    {
     "data": {
      "image/png": "[encoded data removed]",
      "text/plain": [
       "<Figure size 864x576 with 1 Axes>"
      ]
     },
     "metadata": {
      "needs_background": "light"
     },
     "output_type": "display_data"
    }
   ],
   "source": [
    "plt.figure(figsize=(12,8))\n",
    "plt.plot(Train.index,Train.Count,label='Train')\n",
    "plt.plot(Validation.index,Validation.Count,label='Test')\n",
    "plt.plot(Validation.index,Validation['Naive pred'],label='Naive')\n",
    "plt.legend()\n",
    "plt.xlabel('Date time')\n",
    "plt.ylabel('Passenger count')"
   ]
  },
  {
   "cell_type": "code",
   "execution_count": 232,
   "metadata": {},
   "outputs": [
    {
     "data": {
      "text/plain": [
       "111.79050467496724"
      ]
     },
     "execution_count": 232,
     "metadata": {},
     "output_type": "execute_result"
    }
   ],
   "source": [
    "from sklearn.metrics import mean_squared_error\n",
    "np.sqrt(mean_squared_error(Validation.Count,Validation['Naive pred']))"
   ]
  },
  {
   "cell_type": "markdown",
   "metadata": {},
   "source": [
    "### Moving Avarage"
   ]
  },
  {
   "cell_type": "code",
   "execution_count": 233,
   "metadata": {},
   "outputs": [
    {
     "data": {
      "text/html": [
       "<div>\n",
       "<style scoped>\n",
       "    .dataframe tbody tr th:only-of-type {\n",
       "        vertical-align: middle;\n",
       "    }\n",
       "\n",
       "    .dataframe tbody tr th {\n",
       "        vertical-align: top;\n",
       "    }\n",
       "\n",
       "    .dataframe thead th {\n",
       "        text-align: right;\n",
       "    }\n",
       "</style>\n",
       "<table border=\"1\" class=\"dataframe\">\n",
       "  <thead>\n",
       "    <tr style=\"text-align: right;\">\n",
       "      <th></th>\n",
       "      <th>Count</th>\n",
       "      <th>year</th>\n",
       "      <th>month</th>\n",
       "      <th>day</th>\n",
       "      <th>Hour</th>\n",
       "      <th>day of week</th>\n",
       "      <th>weekend</th>\n",
       "      <th>Naive pred</th>\n",
       "      <th>moving-10</th>\n",
       "      <th>moving-20</th>\n",
       "      <th>moving-50</th>\n",
       "    </tr>\n",
       "    <tr>\n",
       "      <th>Datetime</th>\n",
       "      <th></th>\n",
       "      <th></th>\n",
       "      <th></th>\n",
       "      <th></th>\n",
       "      <th></th>\n",
       "      <th></th>\n",
       "      <th></th>\n",
       "      <th></th>\n",
       "      <th></th>\n",
       "      <th></th>\n",
       "      <th></th>\n",
       "    </tr>\n",
       "  </thead>\n",
       "  <tbody>\n",
       "    <tr>\n",
       "      <th>2014-06-25</th>\n",
       "      <td>353.666667</td>\n",
       "      <td>2014.0</td>\n",
       "      <td>6.0</td>\n",
       "      <td>25.0</td>\n",
       "      <td>11.5</td>\n",
       "      <td>2.0</td>\n",
       "      <td>0.0</td>\n",
       "      <td>372.166667</td>\n",
       "      <td>313.033333</td>\n",
       "      <td>319.916667</td>\n",
       "      <td>296.626667</td>\n",
       "    </tr>\n",
       "    <tr>\n",
       "      <th>2014-06-26</th>\n",
       "      <td>395.250000</td>\n",
       "      <td>2014.0</td>\n",
       "      <td>6.0</td>\n",
       "      <td>26.0</td>\n",
       "      <td>11.5</td>\n",
       "      <td>3.0</td>\n",
       "      <td>0.0</td>\n",
       "      <td>372.166667</td>\n",
       "      <td>313.033333</td>\n",
       "      <td>319.916667</td>\n",
       "      <td>296.626667</td>\n",
       "    </tr>\n",
       "    <tr>\n",
       "      <th>2014-06-27</th>\n",
       "      <td>282.333333</td>\n",
       "      <td>2014.0</td>\n",
       "      <td>6.0</td>\n",
       "      <td>27.0</td>\n",
       "      <td>11.5</td>\n",
       "      <td>4.0</td>\n",
       "      <td>0.0</td>\n",
       "      <td>372.166667</td>\n",
       "      <td>313.033333</td>\n",
       "      <td>319.916667</td>\n",
       "      <td>296.626667</td>\n",
       "    </tr>\n",
       "    <tr>\n",
       "      <th>2014-06-28</th>\n",
       "      <td>218.250000</td>\n",
       "      <td>2014.0</td>\n",
       "      <td>6.0</td>\n",
       "      <td>28.0</td>\n",
       "      <td>11.5</td>\n",
       "      <td>5.0</td>\n",
       "      <td>1.0</td>\n",
       "      <td>372.166667</td>\n",
       "      <td>313.033333</td>\n",
       "      <td>319.916667</td>\n",
       "      <td>296.626667</td>\n",
       "    </tr>\n",
       "    <tr>\n",
       "      <th>2014-06-29</th>\n",
       "      <td>196.250000</td>\n",
       "      <td>2014.0</td>\n",
       "      <td>6.0</td>\n",
       "      <td>29.0</td>\n",
       "      <td>11.5</td>\n",
       "      <td>6.0</td>\n",
       "      <td>1.0</td>\n",
       "      <td>372.166667</td>\n",
       "      <td>313.033333</td>\n",
       "      <td>319.916667</td>\n",
       "      <td>296.626667</td>\n",
       "    </tr>\n",
       "  </tbody>\n",
       "</table>\n",
       "</div>"
      ],
      "text/plain": [
       "                 Count    year  month   day  Hour  day of week  weekend  \\\n",
       "Datetime                                                                  \n",
       "2014-06-25  353.666667  2014.0    6.0  25.0  11.5          2.0      0.0   \n",
       "2014-06-26  395.250000  2014.0    6.0  26.0  11.5          3.0      0.0   \n",
       "2014-06-27  282.333333  2014.0    6.0  27.0  11.5          4.0      0.0   \n",
       "2014-06-28  218.250000  2014.0    6.0  28.0  11.5          5.0      1.0   \n",
       "2014-06-29  196.250000  2014.0    6.0  29.0  11.5          6.0      1.0   \n",
       "\n",
       "            Naive pred   moving-10   moving-20   moving-50  \n",
       "Datetime                                                    \n",
       "2014-06-25  372.166667  313.033333  319.916667  296.626667  \n",
       "2014-06-26  372.166667  313.033333  319.916667  296.626667  \n",
       "2014-06-27  372.166667  313.033333  319.916667  296.626667  \n",
       "2014-06-28  372.166667  313.033333  319.916667  296.626667  \n",
       "2014-06-29  372.166667  313.033333  319.916667  296.626667  "
      ]
     },
     "execution_count": 233,
     "metadata": {},
     "output_type": "execute_result"
    }
   ],
   "source": [
    "y_hat=Validation.copy()\n",
    "y_hat['moving-10']=Train.Count.rolling(10).mean().iloc[-1]\n",
    "y_hat['moving-20']=Train.Count.rolling(20).mean().iloc[-1]\n",
    "y_hat['moving-50']=Train.Count.rolling(50).mean().iloc[-1]\n",
    "\n",
    "y_hat.head()"
   ]
  },
  {
   "cell_type": "code",
   "execution_count": 234,
   "metadata": {},
   "outputs": [
    {
     "data": {
      "text/plain": [
       "134.23733308950264"
      ]
     },
     "execution_count": 234,
     "metadata": {},
     "output_type": "execute_result"
    }
   ],
   "source": [
    "np.sqrt(mean_squared_error(y_hat.Count,y_hat['moving-10']))"
   ]
  },
  {
   "cell_type": "code",
   "execution_count": 235,
   "metadata": {},
   "outputs": [
    {
     "data": {
      "text/plain": [
       "130.44984977550422"
      ]
     },
     "execution_count": 235,
     "metadata": {},
     "output_type": "execute_result"
    }
   ],
   "source": [
    "np.sqrt(mean_squared_error(y_hat.Count,y_hat['moving-20']))"
   ]
  },
  {
   "cell_type": "code",
   "execution_count": 236,
   "metadata": {},
   "outputs": [
    {
     "data": {
      "text/plain": [
       "144.19175679986802"
      ]
     },
     "execution_count": 236,
     "metadata": {},
     "output_type": "execute_result"
    }
   ],
   "source": [
    "np.sqrt(mean_squared_error(y_hat.Count,y_hat['moving-50']))"
   ]
  },
  {
   "cell_type": "markdown",
   "metadata": {},
   "source": [
    "### Simple Exponential Smoothing "
   ]
  },
  {
   "cell_type": "code",
   "execution_count": 237,
   "metadata": {},
   "outputs": [
    {
     "name": "stderr",
     "output_type": "stream",
     "text": [
      "C:\\Users\\Harishankar2\\Anaconda3\\lib\\site-packages\\ipykernel_launcher.py:3: UserWarning: Pandas doesn't allow columns to be created via a new attribute name - see https://pandas.pydata.org/pandas-docs/stable/indexing.html#attribute-access\n",
      "  This is separate from the ipykernel package so we can avoid doing imports until\n"
     ]
    }
   ],
   "source": [
    "from statsmodels.tsa.api import ExponentialSmoothing, SimpleExpSmoothing, Holt \n",
    "fit2 = SimpleExpSmoothing(np.asarray(Train['Count'])).fit(smoothing_level=0.6,optimized=False) \n",
    "y_hat.SES=fit2.forecast(len(Validation))\n"
   ]
  },
  {
   "cell_type": "code",
   "execution_count": 238,
   "metadata": {},
   "outputs": [
    {
     "data": {
      "text/plain": [
       "113.43708111884514"
      ]
     },
     "execution_count": 238,
     "metadata": {},
     "output_type": "execute_result"
    }
   ],
   "source": [
    "np.sqrt(mean_squared_error(y_hat.Count,y_hat.SES))"
   ]
  },
  {
   "cell_type": "markdown",
   "metadata": {},
   "source": [
    "### Holt’s Linear Trend Model"
   ]
  },
  {
   "cell_type": "code",
   "execution_count": 239,
   "metadata": {},
   "outputs": [
    {
     "data": {
      "image/png": "[encoded data removed]",
      "text/plain": [
       "<Figure size 432x288 with 4 Axes>"
      ]
     },
     "execution_count": 239,
     "metadata": {},
     "output_type": "execute_result"
    },
    {
     "data": {
      "image/png": "[encoded data removed]",
      "text/plain": [
       "<Figure size 432x288 with 4 Axes>"
      ]
     },
     "metadata": {
      "needs_background": "light"
     },
     "output_type": "display_data"
    }
   ],
   "source": [
    "import statsmodels.api as sm\n",
    "sm.tsa.seasonal_decompose(Train.Count).plot()"
   ]
  },
  {
   "cell_type": "code",
   "execution_count": 240,
   "metadata": {},
   "outputs": [],
   "source": [
    "y_hat=Validation.copy()"
   ]
  },
  {
   "cell_type": "code",
   "execution_count": 241,
   "metadata": {},
   "outputs": [],
   "source": [
    "fit1=Holt(np.asarray(Train.Count)).fit(smoothing_level=.24,smoothing_slope=0.1)\n",
    "y_hat['forecast']=fit1.forecast(len(Validation))"
   ]
  },
  {
   "cell_type": "code",
   "execution_count": 262,
   "metadata": {},
   "outputs": [
    {
     "data": {
      "text/html": [
       "<div>\n",
       "<style scoped>\n",
       "    .dataframe tbody tr th:only-of-type {\n",
       "        vertical-align: middle;\n",
       "    }\n",
       "\n",
       "    .dataframe tbody tr th {\n",
       "        vertical-align: top;\n",
       "    }\n",
       "\n",
       "    .dataframe thead th {\n",
       "        text-align: right;\n",
       "    }\n",
       "</style>\n",
       "<table border=\"1\" class=\"dataframe\">\n",
       "  <thead>\n",
       "    <tr style=\"text-align: right;\">\n",
       "      <th></th>\n",
       "      <th>Count</th>\n",
       "      <th>year</th>\n",
       "      <th>month</th>\n",
       "      <th>day</th>\n",
       "      <th>Hour</th>\n",
       "      <th>day of week</th>\n",
       "      <th>weekend</th>\n",
       "      <th>Naive pred</th>\n",
       "      <th>forecast</th>\n",
       "    </tr>\n",
       "    <tr>\n",
       "      <th>Datetime</th>\n",
       "      <th></th>\n",
       "      <th></th>\n",
       "      <th></th>\n",
       "      <th></th>\n",
       "      <th></th>\n",
       "      <th></th>\n",
       "      <th></th>\n",
       "      <th></th>\n",
       "      <th></th>\n",
       "    </tr>\n",
       "  </thead>\n",
       "  <tbody>\n",
       "    <tr>\n",
       "      <th>2014-06-25</th>\n",
       "      <td>353.666667</td>\n",
       "      <td>2014.0</td>\n",
       "      <td>6.0</td>\n",
       "      <td>25.0</td>\n",
       "      <td>11.5</td>\n",
       "      <td>2.0</td>\n",
       "      <td>0.0</td>\n",
       "      <td>372.166667</td>\n",
       "      <td>325.557532</td>\n",
       "    </tr>\n",
       "    <tr>\n",
       "      <th>2014-06-26</th>\n",
       "      <td>395.250000</td>\n",
       "      <td>2014.0</td>\n",
       "      <td>6.0</td>\n",
       "      <td>26.0</td>\n",
       "      <td>11.5</td>\n",
       "      <td>3.0</td>\n",
       "      <td>0.0</td>\n",
       "      <td>372.166667</td>\n",
       "      <td>327.078999</td>\n",
       "    </tr>\n",
       "    <tr>\n",
       "      <th>2014-06-27</th>\n",
       "      <td>282.333333</td>\n",
       "      <td>2014.0</td>\n",
       "      <td>6.0</td>\n",
       "      <td>27.0</td>\n",
       "      <td>11.5</td>\n",
       "      <td>4.0</td>\n",
       "      <td>0.0</td>\n",
       "      <td>372.166667</td>\n",
       "      <td>328.600466</td>\n",
       "    </tr>\n",
       "    <tr>\n",
       "      <th>2014-06-28</th>\n",
       "      <td>218.250000</td>\n",
       "      <td>2014.0</td>\n",
       "      <td>6.0</td>\n",
       "      <td>28.0</td>\n",
       "      <td>11.5</td>\n",
       "      <td>5.0</td>\n",
       "      <td>1.0</td>\n",
       "      <td>372.166667</td>\n",
       "      <td>330.121933</td>\n",
       "    </tr>\n",
       "    <tr>\n",
       "      <th>2014-06-29</th>\n",
       "      <td>196.250000</td>\n",
       "      <td>2014.0</td>\n",
       "      <td>6.0</td>\n",
       "      <td>29.0</td>\n",
       "      <td>11.5</td>\n",
       "      <td>6.0</td>\n",
       "      <td>1.0</td>\n",
       "      <td>372.166667</td>\n",
       "      <td>331.643400</td>\n",
       "    </tr>\n",
       "  </tbody>\n",
       "</table>\n",
       "</div>"
      ],
      "text/plain": [
       "                 Count    year  month   day  Hour  day of week  weekend  \\\n",
       "Datetime                                                                  \n",
       "2014-06-25  353.666667  2014.0    6.0  25.0  11.5          2.0      0.0   \n",
       "2014-06-26  395.250000  2014.0    6.0  26.0  11.5          3.0      0.0   \n",
       "2014-06-27  282.333333  2014.0    6.0  27.0  11.5          4.0      0.0   \n",
       "2014-06-28  218.250000  2014.0    6.0  28.0  11.5          5.0      1.0   \n",
       "2014-06-29  196.250000  2014.0    6.0  29.0  11.5          6.0      1.0   \n",
       "\n",
       "            Naive pred    forecast  \n",
       "Datetime                            \n",
       "2014-06-25  372.166667  325.557532  \n",
       "2014-06-26  372.166667  327.078999  \n",
       "2014-06-27  372.166667  328.600466  \n",
       "2014-06-28  372.166667  330.121933  \n",
       "2014-06-29  372.166667  331.643400  "
      ]
     },
     "execution_count": 262,
     "metadata": {},
     "output_type": "execute_result"
    }
   ],
   "source": [
    "y_hat.head()"
   ]
  },
  {
   "cell_type": "code",
   "execution_count": 243,
   "metadata": {},
   "outputs": [
    {
     "data": {
      "image/png": "[encoded data removed]",
      "text/plain": [
       "<Figure size 1152x576 with 1 Axes>"
      ]
     },
     "metadata": {
      "needs_background": "light"
     },
     "output_type": "display_data"
    }
   ],
   "source": [
    "plt.figure(figsize=(16,8)) \n",
    "plt.plot(Train['Count'], label='Train') \n",
    "plt.plot(Validation['Count'], label='Valid') \n",
    "plt.plot(y_hat['forecast'], label='Holt_linear') \n",
    "plt.legend(loc='best') \n",
    "plt.show()"
   ]
  },
  {
   "cell_type": "code",
   "execution_count": 244,
   "metadata": {},
   "outputs": [
    {
     "data": {
      "text/plain": [
       "96.22036882936749"
      ]
     },
     "execution_count": 244,
     "metadata": {},
     "output_type": "execute_result"
    }
   ],
   "source": [
    "np.sqrt(mean_squared_error(y_hat.Count,y_hat.forecast))"
   ]
  },
  {
   "cell_type": "code",
   "execution_count": 245,
   "metadata": {},
   "outputs": [],
   "source": [
    "submission=pd.read_csv(\"Sample_Submission_QChS6c3.csv\")"
   ]
  },
  {
   "cell_type": "code",
   "execution_count": 246,
   "metadata": {},
   "outputs": [
    {
     "data": {
      "text/html": [
       "<div>\n",
       "<style scoped>\n",
       "    .dataframe tbody tr th:only-of-type {\n",
       "        vertical-align: middle;\n",
       "    }\n",
       "\n",
       "    .dataframe tbody tr th {\n",
       "        vertical-align: top;\n",
       "    }\n",
       "\n",
       "    .dataframe thead th {\n",
       "        text-align: right;\n",
       "    }\n",
       "</style>\n",
       "<table border=\"1\" class=\"dataframe\">\n",
       "  <thead>\n",
       "    <tr style=\"text-align: right;\">\n",
       "      <th></th>\n",
       "      <th>ID</th>\n",
       "      <th>Count</th>\n",
       "    </tr>\n",
       "  </thead>\n",
       "  <tbody>\n",
       "  </tbody>\n",
       "</table>\n",
       "</div>"
      ],
      "text/plain": [
       "Empty DataFrame\n",
       "Columns: [ID, Count]\n",
       "Index: []"
      ]
     },
     "execution_count": 246,
     "metadata": {},
     "output_type": "execute_result"
    }
   ],
   "source": [
    "submission"
   ]
  },
  {
   "cell_type": "code",
   "execution_count": 247,
   "metadata": {},
   "outputs": [],
   "source": [
    "predict=fit1.forecast(len(test))"
   ]
  },
  {
   "cell_type": "code",
   "execution_count": 248,
   "metadata": {},
   "outputs": [],
   "source": [
    "test['pred']=predict"
   ]
  },
  {
   "cell_type": "code",
   "execution_count": 249,
   "metadata": {},
   "outputs": [
    {
     "data": {
      "text/html": [
       "<div>\n",
       "<style scoped>\n",
       "    .dataframe tbody tr th:only-of-type {\n",
       "        vertical-align: middle;\n",
       "    }\n",
       "\n",
       "    .dataframe tbody tr th {\n",
       "        vertical-align: top;\n",
       "    }\n",
       "\n",
       "    .dataframe thead th {\n",
       "        text-align: right;\n",
       "    }\n",
       "</style>\n",
       "<table border=\"1\" class=\"dataframe\">\n",
       "  <thead>\n",
       "    <tr style=\"text-align: right;\">\n",
       "      <th></th>\n",
       "      <th>ID</th>\n",
       "      <th>year</th>\n",
       "      <th>month</th>\n",
       "      <th>day</th>\n",
       "      <th>Hour</th>\n",
       "      <th>pred</th>\n",
       "    </tr>\n",
       "    <tr>\n",
       "      <th>Datetime</th>\n",
       "      <th></th>\n",
       "      <th></th>\n",
       "      <th></th>\n",
       "      <th></th>\n",
       "      <th></th>\n",
       "      <th></th>\n",
       "    </tr>\n",
       "  </thead>\n",
       "  <tbody>\n",
       "    <tr>\n",
       "      <th>2014-09-26</th>\n",
       "      <td>18299.5</td>\n",
       "      <td>2014.0</td>\n",
       "      <td>9.0</td>\n",
       "      <td>26.0</td>\n",
       "      <td>11.5</td>\n",
       "      <td>325.557532</td>\n",
       "    </tr>\n",
       "    <tr>\n",
       "      <th>2014-09-27</th>\n",
       "      <td>18323.5</td>\n",
       "      <td>2014.0</td>\n",
       "      <td>9.0</td>\n",
       "      <td>27.0</td>\n",
       "      <td>11.5</td>\n",
       "      <td>327.078999</td>\n",
       "    </tr>\n",
       "    <tr>\n",
       "      <th>2014-09-28</th>\n",
       "      <td>18347.5</td>\n",
       "      <td>2014.0</td>\n",
       "      <td>9.0</td>\n",
       "      <td>28.0</td>\n",
       "      <td>11.5</td>\n",
       "      <td>328.600466</td>\n",
       "    </tr>\n",
       "    <tr>\n",
       "      <th>2014-09-29</th>\n",
       "      <td>18371.5</td>\n",
       "      <td>2014.0</td>\n",
       "      <td>9.0</td>\n",
       "      <td>29.0</td>\n",
       "      <td>11.5</td>\n",
       "      <td>330.121933</td>\n",
       "    </tr>\n",
       "    <tr>\n",
       "      <th>2014-09-30</th>\n",
       "      <td>18395.5</td>\n",
       "      <td>2014.0</td>\n",
       "      <td>9.0</td>\n",
       "      <td>30.0</td>\n",
       "      <td>11.5</td>\n",
       "      <td>331.643400</td>\n",
       "    </tr>\n",
       "  </tbody>\n",
       "</table>\n",
       "</div>"
      ],
      "text/plain": [
       "                 ID    year  month   day  Hour        pred\n",
       "Datetime                                                  \n",
       "2014-09-26  18299.5  2014.0    9.0  26.0  11.5  325.557532\n",
       "2014-09-27  18323.5  2014.0    9.0  27.0  11.5  327.078999\n",
       "2014-09-28  18347.5  2014.0    9.0  28.0  11.5  328.600466\n",
       "2014-09-29  18371.5  2014.0    9.0  29.0  11.5  330.121933\n",
       "2014-09-30  18395.5  2014.0    9.0  30.0  11.5  331.643400"
      ]
     },
     "execution_count": 249,
     "metadata": {},
     "output_type": "execute_result"
    }
   ],
   "source": [
    "test.head()"
   ]
  },
  {
   "cell_type": "code",
   "execution_count": 250,
   "metadata": {},
   "outputs": [
    {
     "data": {
      "text/html": [
       "<div>\n",
       "<style scoped>\n",
       "    .dataframe tbody tr th:only-of-type {\n",
       "        vertical-align: middle;\n",
       "    }\n",
       "\n",
       "    .dataframe tbody tr th {\n",
       "        vertical-align: top;\n",
       "    }\n",
       "\n",
       "    .dataframe thead th {\n",
       "        text-align: right;\n",
       "    }\n",
       "</style>\n",
       "<table border=\"1\" class=\"dataframe\">\n",
       "  <thead>\n",
       "    <tr style=\"text-align: right;\">\n",
       "      <th></th>\n",
       "      <th>ID</th>\n",
       "      <th>Datetime</th>\n",
       "      <th>Count</th>\n",
       "      <th>year</th>\n",
       "      <th>month</th>\n",
       "      <th>day</th>\n",
       "      <th>Hour</th>\n",
       "      <th>ratio</th>\n",
       "    </tr>\n",
       "  </thead>\n",
       "  <tbody>\n",
       "    <tr>\n",
       "      <th>0</th>\n",
       "      <td>0</td>\n",
       "      <td>2012-08-25 00:00:00</td>\n",
       "      <td>8</td>\n",
       "      <td>2012</td>\n",
       "      <td>8</td>\n",
       "      <td>25</td>\n",
       "      <td>0</td>\n",
       "      <td>3.148037e-06</td>\n",
       "    </tr>\n",
       "    <tr>\n",
       "      <th>1</th>\n",
       "      <td>1</td>\n",
       "      <td>2012-08-25 01:00:00</td>\n",
       "      <td>2</td>\n",
       "      <td>2012</td>\n",
       "      <td>8</td>\n",
       "      <td>25</td>\n",
       "      <td>1</td>\n",
       "      <td>7.870093e-07</td>\n",
       "    </tr>\n",
       "    <tr>\n",
       "      <th>2</th>\n",
       "      <td>2</td>\n",
       "      <td>2012-08-25 02:00:00</td>\n",
       "      <td>6</td>\n",
       "      <td>2012</td>\n",
       "      <td>8</td>\n",
       "      <td>25</td>\n",
       "      <td>2</td>\n",
       "      <td>2.361028e-06</td>\n",
       "    </tr>\n",
       "    <tr>\n",
       "      <th>3</th>\n",
       "      <td>3</td>\n",
       "      <td>2012-08-25 03:00:00</td>\n",
       "      <td>2</td>\n",
       "      <td>2012</td>\n",
       "      <td>8</td>\n",
       "      <td>25</td>\n",
       "      <td>3</td>\n",
       "      <td>7.870093e-07</td>\n",
       "    </tr>\n",
       "    <tr>\n",
       "      <th>4</th>\n",
       "      <td>4</td>\n",
       "      <td>2012-08-25 04:00:00</td>\n",
       "      <td>2</td>\n",
       "      <td>2012</td>\n",
       "      <td>8</td>\n",
       "      <td>25</td>\n",
       "      <td>4</td>\n",
       "      <td>7.870093e-07</td>\n",
       "    </tr>\n",
       "  </tbody>\n",
       "</table>\n",
       "</div>"
      ],
      "text/plain": [
       "   ID            Datetime  Count  year  month  day  Hour         ratio\n",
       "0   0 2012-08-25 00:00:00      8  2012      8   25     0  3.148037e-06\n",
       "1   1 2012-08-25 01:00:00      2  2012      8   25     1  7.870093e-07\n",
       "2   2 2012-08-25 02:00:00      6  2012      8   25     2  2.361028e-06\n",
       "3   3 2012-08-25 03:00:00      2  2012      8   25     3  7.870093e-07\n",
       "4   4 2012-08-25 04:00:00      2  2012      8   25     4  7.870093e-07"
      ]
     },
     "execution_count": 250,
     "metadata": {},
     "output_type": "execute_result"
    }
   ],
   "source": [
    "train_original['ratio']=train_original.Count/train_original.Count.sum()\n",
    "train_original.head()"
   ]
  },
  {
   "cell_type": "code",
   "execution_count": 251,
   "metadata": {},
   "outputs": [
    {
     "data": {
      "text/plain": [
       "pandas.core.series.Series"
      ]
     },
     "execution_count": 251,
     "metadata": {},
     "output_type": "execute_result"
    }
   ],
   "source": [
    "temp=train_original.groupby('Hour')['ratio'].sum()\n",
    "type(temp)"
   ]
  },
  {
   "cell_type": "code",
   "execution_count": 252,
   "metadata": {},
   "outputs": [
    {
     "data": {
      "text/plain": [
       "1.0"
      ]
     },
     "execution_count": 252,
     "metadata": {},
     "output_type": "execute_result"
    }
   ],
   "source": [
    "temp2=pd.DataFrame(temp).reset_index()\n",
    "temp2.ratio.sum()"
   ]
  },
  {
   "cell_type": "code",
   "execution_count": 253,
   "metadata": {},
   "outputs": [
    {
     "data": {
      "text/html": [
       "<div>\n",
       "<style scoped>\n",
       "    .dataframe tbody tr th:only-of-type {\n",
       "        vertical-align: middle;\n",
       "    }\n",
       "\n",
       "    .dataframe tbody tr th {\n",
       "        vertical-align: top;\n",
       "    }\n",
       "\n",
       "    .dataframe thead th {\n",
       "        text-align: right;\n",
       "    }\n",
       "</style>\n",
       "<table border=\"1\" class=\"dataframe\">\n",
       "  <thead>\n",
       "    <tr style=\"text-align: right;\">\n",
       "      <th></th>\n",
       "      <th>ID</th>\n",
       "      <th>year</th>\n",
       "      <th>month</th>\n",
       "      <th>day</th>\n",
       "      <th>Hour</th>\n",
       "      <th>pred</th>\n",
       "    </tr>\n",
       "    <tr>\n",
       "      <th>Datetime</th>\n",
       "      <th></th>\n",
       "      <th></th>\n",
       "      <th></th>\n",
       "      <th></th>\n",
       "      <th></th>\n",
       "      <th></th>\n",
       "    </tr>\n",
       "  </thead>\n",
       "  <tbody>\n",
       "    <tr>\n",
       "      <th>2014-09-26</th>\n",
       "      <td>18299.5</td>\n",
       "      <td>2014.0</td>\n",
       "      <td>9.0</td>\n",
       "      <td>26.0</td>\n",
       "      <td>11.5</td>\n",
       "      <td>325.557532</td>\n",
       "    </tr>\n",
       "    <tr>\n",
       "      <th>2014-09-27</th>\n",
       "      <td>18323.5</td>\n",
       "      <td>2014.0</td>\n",
       "      <td>9.0</td>\n",
       "      <td>27.0</td>\n",
       "      <td>11.5</td>\n",
       "      <td>327.078999</td>\n",
       "    </tr>\n",
       "    <tr>\n",
       "      <th>2014-09-28</th>\n",
       "      <td>18347.5</td>\n",
       "      <td>2014.0</td>\n",
       "      <td>9.0</td>\n",
       "      <td>28.0</td>\n",
       "      <td>11.5</td>\n",
       "      <td>328.600466</td>\n",
       "    </tr>\n",
       "    <tr>\n",
       "      <th>2014-09-29</th>\n",
       "      <td>18371.5</td>\n",
       "      <td>2014.0</td>\n",
       "      <td>9.0</td>\n",
       "      <td>29.0</td>\n",
       "      <td>11.5</td>\n",
       "      <td>330.121933</td>\n",
       "    </tr>\n",
       "    <tr>\n",
       "      <th>2014-09-30</th>\n",
       "      <td>18395.5</td>\n",
       "      <td>2014.0</td>\n",
       "      <td>9.0</td>\n",
       "      <td>30.0</td>\n",
       "      <td>11.5</td>\n",
       "      <td>331.643400</td>\n",
       "    </tr>\n",
       "  </tbody>\n",
       "</table>\n",
       "</div>"
      ],
      "text/plain": [
       "                 ID    year  month   day  Hour        pred\n",
       "Datetime                                                  \n",
       "2014-09-26  18299.5  2014.0    9.0  26.0  11.5  325.557532\n",
       "2014-09-27  18323.5  2014.0    9.0  27.0  11.5  327.078999\n",
       "2014-09-28  18347.5  2014.0    9.0  28.0  11.5  328.600466\n",
       "2014-09-29  18371.5  2014.0    9.0  29.0  11.5  330.121933\n",
       "2014-09-30  18395.5  2014.0    9.0  30.0  11.5  331.643400"
      ]
     },
     "execution_count": 253,
     "metadata": {},
     "output_type": "execute_result"
    }
   ],
   "source": [
    "test.head()\n",
    "#len(test)"
   ]
  },
  {
   "cell_type": "code",
   "execution_count": 254,
   "metadata": {},
   "outputs": [
    {
     "data": {
      "text/html": [
       "<div>\n",
       "<style scoped>\n",
       "    .dataframe tbody tr th:only-of-type {\n",
       "        vertical-align: middle;\n",
       "    }\n",
       "\n",
       "    .dataframe tbody tr th {\n",
       "        vertical-align: top;\n",
       "    }\n",
       "\n",
       "    .dataframe thead th {\n",
       "        text-align: right;\n",
       "    }\n",
       "</style>\n",
       "<table border=\"1\" class=\"dataframe\">\n",
       "  <thead>\n",
       "    <tr style=\"text-align: right;\">\n",
       "      <th></th>\n",
       "      <th>ID</th>\n",
       "      <th>Datetime</th>\n",
       "      <th>year</th>\n",
       "      <th>month</th>\n",
       "      <th>day</th>\n",
       "      <th>Hour</th>\n",
       "    </tr>\n",
       "  </thead>\n",
       "  <tbody>\n",
       "    <tr>\n",
       "      <th>0</th>\n",
       "      <td>18288</td>\n",
       "      <td>2014-09-26 00:00:00</td>\n",
       "      <td>2014</td>\n",
       "      <td>9</td>\n",
       "      <td>26</td>\n",
       "      <td>0</td>\n",
       "    </tr>\n",
       "    <tr>\n",
       "      <th>1</th>\n",
       "      <td>18289</td>\n",
       "      <td>2014-09-26 01:00:00</td>\n",
       "      <td>2014</td>\n",
       "      <td>9</td>\n",
       "      <td>26</td>\n",
       "      <td>1</td>\n",
       "    </tr>\n",
       "    <tr>\n",
       "      <th>2</th>\n",
       "      <td>18290</td>\n",
       "      <td>2014-09-26 02:00:00</td>\n",
       "      <td>2014</td>\n",
       "      <td>9</td>\n",
       "      <td>26</td>\n",
       "      <td>2</td>\n",
       "    </tr>\n",
       "    <tr>\n",
       "      <th>3</th>\n",
       "      <td>18291</td>\n",
       "      <td>2014-09-26 03:00:00</td>\n",
       "      <td>2014</td>\n",
       "      <td>9</td>\n",
       "      <td>26</td>\n",
       "      <td>3</td>\n",
       "    </tr>\n",
       "    <tr>\n",
       "      <th>4</th>\n",
       "      <td>18292</td>\n",
       "      <td>2014-09-26 04:00:00</td>\n",
       "      <td>2014</td>\n",
       "      <td>9</td>\n",
       "      <td>26</td>\n",
       "      <td>4</td>\n",
       "    </tr>\n",
       "  </tbody>\n",
       "</table>\n",
       "</div>"
      ],
      "text/plain": [
       "      ID            Datetime  year  month  day  Hour\n",
       "0  18288 2014-09-26 00:00:00  2014      9   26     0\n",
       "1  18289 2014-09-26 01:00:00  2014      9   26     1\n",
       "2  18290 2014-09-26 02:00:00  2014      9   26     2\n",
       "3  18291 2014-09-26 03:00:00  2014      9   26     3\n",
       "4  18292 2014-09-26 04:00:00  2014      9   26     4"
      ]
     },
     "execution_count": 254,
     "metadata": {},
     "output_type": "execute_result"
    }
   ],
   "source": [
    "test_original.head()\n",
    "#len(test_original)"
   ]
  },
  {
   "cell_type": "code",
   "execution_count": 255,
   "metadata": {},
   "outputs": [
    {
     "data": {
      "text/html": [
       "<div>\n",
       "<style scoped>\n",
       "    .dataframe tbody tr th:only-of-type {\n",
       "        vertical-align: middle;\n",
       "    }\n",
       "\n",
       "    .dataframe tbody tr th {\n",
       "        vertical-align: top;\n",
       "    }\n",
       "\n",
       "    .dataframe thead th {\n",
       "        text-align: right;\n",
       "    }\n",
       "</style>\n",
       "<table border=\"1\" class=\"dataframe\">\n",
       "  <thead>\n",
       "    <tr style=\"text-align: right;\">\n",
       "      <th></th>\n",
       "      <th>ID_x</th>\n",
       "      <th>year</th>\n",
       "      <th>month</th>\n",
       "      <th>day</th>\n",
       "      <th>Hour_x</th>\n",
       "      <th>pred</th>\n",
       "      <th>ID_y</th>\n",
       "      <th>Datetime</th>\n",
       "      <th>Hour_y</th>\n",
       "    </tr>\n",
       "  </thead>\n",
       "  <tbody>\n",
       "    <tr>\n",
       "      <th>0</th>\n",
       "      <td>18299.5</td>\n",
       "      <td>2014.0</td>\n",
       "      <td>9.0</td>\n",
       "      <td>26.0</td>\n",
       "      <td>11.5</td>\n",
       "      <td>325.557532</td>\n",
       "      <td>18288</td>\n",
       "      <td>2014-09-26 00:00:00</td>\n",
       "      <td>0</td>\n",
       "    </tr>\n",
       "    <tr>\n",
       "      <th>1</th>\n",
       "      <td>18299.5</td>\n",
       "      <td>2014.0</td>\n",
       "      <td>9.0</td>\n",
       "      <td>26.0</td>\n",
       "      <td>11.5</td>\n",
       "      <td>325.557532</td>\n",
       "      <td>18289</td>\n",
       "      <td>2014-09-26 01:00:00</td>\n",
       "      <td>1</td>\n",
       "    </tr>\n",
       "    <tr>\n",
       "      <th>2</th>\n",
       "      <td>18299.5</td>\n",
       "      <td>2014.0</td>\n",
       "      <td>9.0</td>\n",
       "      <td>26.0</td>\n",
       "      <td>11.5</td>\n",
       "      <td>325.557532</td>\n",
       "      <td>18290</td>\n",
       "      <td>2014-09-26 02:00:00</td>\n",
       "      <td>2</td>\n",
       "    </tr>\n",
       "    <tr>\n",
       "      <th>3</th>\n",
       "      <td>18299.5</td>\n",
       "      <td>2014.0</td>\n",
       "      <td>9.0</td>\n",
       "      <td>26.0</td>\n",
       "      <td>11.5</td>\n",
       "      <td>325.557532</td>\n",
       "      <td>18291</td>\n",
       "      <td>2014-09-26 03:00:00</td>\n",
       "      <td>3</td>\n",
       "    </tr>\n",
       "    <tr>\n",
       "      <th>4</th>\n",
       "      <td>18299.5</td>\n",
       "      <td>2014.0</td>\n",
       "      <td>9.0</td>\n",
       "      <td>26.0</td>\n",
       "      <td>11.5</td>\n",
       "      <td>325.557532</td>\n",
       "      <td>18292</td>\n",
       "      <td>2014-09-26 04:00:00</td>\n",
       "      <td>4</td>\n",
       "    </tr>\n",
       "  </tbody>\n",
       "</table>\n",
       "</div>"
      ],
      "text/plain": [
       "      ID_x    year  month   day  Hour_x        pred   ID_y  \\\n",
       "0  18299.5  2014.0    9.0  26.0    11.5  325.557532  18288   \n",
       "1  18299.5  2014.0    9.0  26.0    11.5  325.557532  18289   \n",
       "2  18299.5  2014.0    9.0  26.0    11.5  325.557532  18290   \n",
       "3  18299.5  2014.0    9.0  26.0    11.5  325.557532  18291   \n",
       "4  18299.5  2014.0    9.0  26.0    11.5  325.557532  18292   \n",
       "\n",
       "             Datetime  Hour_y  \n",
       "0 2014-09-26 00:00:00       0  \n",
       "1 2014-09-26 01:00:00       1  \n",
       "2 2014-09-26 02:00:00       2  \n",
       "3 2014-09-26 03:00:00       3  \n",
       "4 2014-09-26 04:00:00       4  "
      ]
     },
     "execution_count": 255,
     "metadata": {},
     "output_type": "execute_result"
    }
   ],
   "source": [
    "merge=pd.merge(test, test_original, on=('day','month', 'year'), how='left') \n",
    "merge.head()\n",
    "#len(merge)\n"
   ]
  },
  {
   "cell_type": "code",
   "execution_count": 256,
   "metadata": {},
   "outputs": [
    {
     "data": {
      "text/html": [
       "<div>\n",
       "<style scoped>\n",
       "    .dataframe tbody tr th:only-of-type {\n",
       "        vertical-align: middle;\n",
       "    }\n",
       "\n",
       "    .dataframe tbody tr th {\n",
       "        vertical-align: top;\n",
       "    }\n",
       "\n",
       "    .dataframe thead th {\n",
       "        text-align: right;\n",
       "    }\n",
       "</style>\n",
       "<table border=\"1\" class=\"dataframe\">\n",
       "  <thead>\n",
       "    <tr style=\"text-align: right;\">\n",
       "      <th></th>\n",
       "      <th>ID_x</th>\n",
       "      <th>day</th>\n",
       "      <th>pred</th>\n",
       "      <th>ID_y</th>\n",
       "      <th>Hour</th>\n",
       "    </tr>\n",
       "  </thead>\n",
       "  <tbody>\n",
       "    <tr>\n",
       "      <th>0</th>\n",
       "      <td>18299.5</td>\n",
       "      <td>26.0</td>\n",
       "      <td>325.557532</td>\n",
       "      <td>18288</td>\n",
       "      <td>0</td>\n",
       "    </tr>\n",
       "    <tr>\n",
       "      <th>1</th>\n",
       "      <td>18299.5</td>\n",
       "      <td>26.0</td>\n",
       "      <td>325.557532</td>\n",
       "      <td>18289</td>\n",
       "      <td>1</td>\n",
       "    </tr>\n",
       "    <tr>\n",
       "      <th>2</th>\n",
       "      <td>18299.5</td>\n",
       "      <td>26.0</td>\n",
       "      <td>325.557532</td>\n",
       "      <td>18290</td>\n",
       "      <td>2</td>\n",
       "    </tr>\n",
       "    <tr>\n",
       "      <th>3</th>\n",
       "      <td>18299.5</td>\n",
       "      <td>26.0</td>\n",
       "      <td>325.557532</td>\n",
       "      <td>18291</td>\n",
       "      <td>3</td>\n",
       "    </tr>\n",
       "    <tr>\n",
       "      <th>4</th>\n",
       "      <td>18299.5</td>\n",
       "      <td>26.0</td>\n",
       "      <td>325.557532</td>\n",
       "      <td>18292</td>\n",
       "      <td>4</td>\n",
       "    </tr>\n",
       "  </tbody>\n",
       "</table>\n",
       "</div>"
      ],
      "text/plain": [
       "      ID_x   day        pred   ID_y  Hour\n",
       "0  18299.5  26.0  325.557532  18288     0\n",
       "1  18299.5  26.0  325.557532  18289     1\n",
       "2  18299.5  26.0  325.557532  18290     2\n",
       "3  18299.5  26.0  325.557532  18291     3\n",
       "4  18299.5  26.0  325.557532  18292     4"
      ]
     },
     "execution_count": 256,
     "metadata": {},
     "output_type": "execute_result"
    }
   ],
   "source": [
    "merge['Hour']=merge['Hour_y']\n",
    "merge=merge.drop(['year', 'month', 'Datetime','Hour_x','Hour_y'], axis=1) \n",
    "merge.head()"
   ]
  },
  {
   "cell_type": "code",
   "execution_count": 266,
   "metadata": {},
   "outputs": [],
   "source": [
    "prediction=pd.merge(merge, temp2, on='Hour', how='left')"
   ]
  },
  {
   "cell_type": "code",
   "execution_count": 267,
   "metadata": {},
   "outputs": [],
   "source": [
    "prediction['Count']=prediction['pred']*prediction['ratio']*24 "
   ]
  },
  {
   "cell_type": "code",
   "execution_count": 268,
   "metadata": {},
   "outputs": [
    {
     "data": {
      "text/html": [
       "<div>\n",
       "<style scoped>\n",
       "    .dataframe tbody tr th:only-of-type {\n",
       "        vertical-align: middle;\n",
       "    }\n",
       "\n",
       "    .dataframe tbody tr th {\n",
       "        vertical-align: top;\n",
       "    }\n",
       "\n",
       "    .dataframe thead th {\n",
       "        text-align: right;\n",
       "    }\n",
       "</style>\n",
       "<table border=\"1\" class=\"dataframe\">\n",
       "  <thead>\n",
       "    <tr style=\"text-align: right;\">\n",
       "      <th></th>\n",
       "      <th>ID</th>\n",
       "      <th>Datetime</th>\n",
       "      <th>Count</th>\n",
       "      <th>year</th>\n",
       "      <th>month</th>\n",
       "      <th>day</th>\n",
       "      <th>Hour</th>\n",
       "      <th>ratio</th>\n",
       "    </tr>\n",
       "  </thead>\n",
       "  <tbody>\n",
       "    <tr>\n",
       "      <th>18283</th>\n",
       "      <td>18283</td>\n",
       "      <td>2014-09-25 19:00:00</td>\n",
       "      <td>868</td>\n",
       "      <td>2014</td>\n",
       "      <td>9</td>\n",
       "      <td>25</td>\n",
       "      <td>19</td>\n",
       "      <td>0.000342</td>\n",
       "    </tr>\n",
       "    <tr>\n",
       "      <th>18284</th>\n",
       "      <td>18284</td>\n",
       "      <td>2014-09-25 20:00:00</td>\n",
       "      <td>732</td>\n",
       "      <td>2014</td>\n",
       "      <td>9</td>\n",
       "      <td>25</td>\n",
       "      <td>20</td>\n",
       "      <td>0.000288</td>\n",
       "    </tr>\n",
       "    <tr>\n",
       "      <th>18285</th>\n",
       "      <td>18285</td>\n",
       "      <td>2014-09-25 21:00:00</td>\n",
       "      <td>702</td>\n",
       "      <td>2014</td>\n",
       "      <td>9</td>\n",
       "      <td>25</td>\n",
       "      <td>21</td>\n",
       "      <td>0.000276</td>\n",
       "    </tr>\n",
       "    <tr>\n",
       "      <th>18286</th>\n",
       "      <td>18286</td>\n",
       "      <td>2014-09-25 22:00:00</td>\n",
       "      <td>580</td>\n",
       "      <td>2014</td>\n",
       "      <td>9</td>\n",
       "      <td>25</td>\n",
       "      <td>22</td>\n",
       "      <td>0.000228</td>\n",
       "    </tr>\n",
       "    <tr>\n",
       "      <th>18287</th>\n",
       "      <td>18287</td>\n",
       "      <td>2014-09-25 23:00:00</td>\n",
       "      <td>534</td>\n",
       "      <td>2014</td>\n",
       "      <td>9</td>\n",
       "      <td>25</td>\n",
       "      <td>23</td>\n",
       "      <td>0.000210</td>\n",
       "    </tr>\n",
       "  </tbody>\n",
       "</table>\n",
       "</div>"
      ],
      "text/plain": [
       "          ID            Datetime  Count  year  month  day  Hour     ratio\n",
       "18283  18283 2014-09-25 19:00:00    868  2014      9   25    19  0.000342\n",
       "18284  18284 2014-09-25 20:00:00    732  2014      9   25    20  0.000288\n",
       "18285  18285 2014-09-25 21:00:00    702  2014      9   25    21  0.000276\n",
       "18286  18286 2014-09-25 22:00:00    580  2014      9   25    22  0.000228\n",
       "18287  18287 2014-09-25 23:00:00    534  2014      9   25    23  0.000210"
      ]
     },
     "execution_count": 268,
     "metadata": {},
     "output_type": "execute_result"
    }
   ],
   "source": [
    "train_original.tail()"
   ]
  },
  {
   "cell_type": "code",
   "execution_count": 269,
   "metadata": {},
   "outputs": [
    {
     "data": {
      "text/html": [
       "<div>\n",
       "<style scoped>\n",
       "    .dataframe tbody tr th:only-of-type {\n",
       "        vertical-align: middle;\n",
       "    }\n",
       "\n",
       "    .dataframe tbody tr th {\n",
       "        vertical-align: top;\n",
       "    }\n",
       "\n",
       "    .dataframe thead th {\n",
       "        text-align: right;\n",
       "    }\n",
       "</style>\n",
       "<table border=\"1\" class=\"dataframe\">\n",
       "  <thead>\n",
       "    <tr style=\"text-align: right;\">\n",
       "      <th></th>\n",
       "      <th>ID_x</th>\n",
       "      <th>day</th>\n",
       "      <th>pred</th>\n",
       "      <th>ID_y</th>\n",
       "      <th>Hour</th>\n",
       "      <th>ratio</th>\n",
       "      <th>Count</th>\n",
       "    </tr>\n",
       "  </thead>\n",
       "  <tbody>\n",
       "    <tr>\n",
       "      <th>0</th>\n",
       "      <td>18299.5</td>\n",
       "      <td>26.0</td>\n",
       "      <td>325.557532</td>\n",
       "      <td>18288</td>\n",
       "      <td>0</td>\n",
       "      <td>0.044287</td>\n",
       "      <td>346.027974</td>\n",
       "    </tr>\n",
       "    <tr>\n",
       "      <th>1</th>\n",
       "      <td>18299.5</td>\n",
       "      <td>26.0</td>\n",
       "      <td>325.557532</td>\n",
       "      <td>18289</td>\n",
       "      <td>1</td>\n",
       "      <td>0.035343</td>\n",
       "      <td>276.148427</td>\n",
       "    </tr>\n",
       "    <tr>\n",
       "      <th>2</th>\n",
       "      <td>18299.5</td>\n",
       "      <td>26.0</td>\n",
       "      <td>325.557532</td>\n",
       "      <td>18290</td>\n",
       "      <td>2</td>\n",
       "      <td>0.029911</td>\n",
       "      <td>233.706625</td>\n",
       "    </tr>\n",
       "    <tr>\n",
       "      <th>3</th>\n",
       "      <td>18299.5</td>\n",
       "      <td>26.0</td>\n",
       "      <td>325.557532</td>\n",
       "      <td>18291</td>\n",
       "      <td>3</td>\n",
       "      <td>0.024714</td>\n",
       "      <td>193.103435</td>\n",
       "    </tr>\n",
       "    <tr>\n",
       "      <th>4</th>\n",
       "      <td>18299.5</td>\n",
       "      <td>26.0</td>\n",
       "      <td>325.557532</td>\n",
       "      <td>18292</td>\n",
       "      <td>4</td>\n",
       "      <td>0.020802</td>\n",
       "      <td>162.535745</td>\n",
       "    </tr>\n",
       "  </tbody>\n",
       "</table>\n",
       "</div>"
      ],
      "text/plain": [
       "      ID_x   day        pred   ID_y  Hour     ratio       Count\n",
       "0  18299.5  26.0  325.557532  18288     0  0.044287  346.027974\n",
       "1  18299.5  26.0  325.557532  18289     1  0.035343  276.148427\n",
       "2  18299.5  26.0  325.557532  18290     2  0.029911  233.706625\n",
       "3  18299.5  26.0  325.557532  18291     3  0.024714  193.103435\n",
       "4  18299.5  26.0  325.557532  18292     4  0.020802  162.535745"
      ]
     },
     "execution_count": 269,
     "metadata": {},
     "output_type": "execute_result"
    }
   ],
   "source": [
    "prediction.head()"
   ]
  },
  {
   "cell_type": "code",
   "execution_count": 271,
   "metadata": {},
   "outputs": [
    {
     "data": {
      "text/html": [
       "<div>\n",
       "<style scoped>\n",
       "    .dataframe tbody tr th:only-of-type {\n",
       "        vertical-align: middle;\n",
       "    }\n",
       "\n",
       "    .dataframe tbody tr th {\n",
       "        vertical-align: top;\n",
       "    }\n",
       "\n",
       "    .dataframe thead th {\n",
       "        text-align: right;\n",
       "    }\n",
       "</style>\n",
       "<table border=\"1\" class=\"dataframe\">\n",
       "  <thead>\n",
       "    <tr style=\"text-align: right;\">\n",
       "      <th></th>\n",
       "      <th>ID_x</th>\n",
       "      <th>day</th>\n",
       "      <th>pred</th>\n",
       "      <th>ID_y</th>\n",
       "      <th>Hour</th>\n",
       "      <th>ratio</th>\n",
       "      <th>Count</th>\n",
       "      <th>ID</th>\n",
       "    </tr>\n",
       "  </thead>\n",
       "  <tbody>\n",
       "    <tr>\n",
       "      <th>0</th>\n",
       "      <td>18299.5</td>\n",
       "      <td>26.0</td>\n",
       "      <td>325.557532</td>\n",
       "      <td>18288</td>\n",
       "      <td>0</td>\n",
       "      <td>0.044287</td>\n",
       "      <td>346.027974</td>\n",
       "      <td>18288</td>\n",
       "    </tr>\n",
       "    <tr>\n",
       "      <th>1</th>\n",
       "      <td>18299.5</td>\n",
       "      <td>26.0</td>\n",
       "      <td>325.557532</td>\n",
       "      <td>18289</td>\n",
       "      <td>1</td>\n",
       "      <td>0.035343</td>\n",
       "      <td>276.148427</td>\n",
       "      <td>18289</td>\n",
       "    </tr>\n",
       "    <tr>\n",
       "      <th>2</th>\n",
       "      <td>18299.5</td>\n",
       "      <td>26.0</td>\n",
       "      <td>325.557532</td>\n",
       "      <td>18290</td>\n",
       "      <td>2</td>\n",
       "      <td>0.029911</td>\n",
       "      <td>233.706625</td>\n",
       "      <td>18290</td>\n",
       "    </tr>\n",
       "    <tr>\n",
       "      <th>3</th>\n",
       "      <td>18299.5</td>\n",
       "      <td>26.0</td>\n",
       "      <td>325.557532</td>\n",
       "      <td>18291</td>\n",
       "      <td>3</td>\n",
       "      <td>0.024714</td>\n",
       "      <td>193.103435</td>\n",
       "      <td>18291</td>\n",
       "    </tr>\n",
       "    <tr>\n",
       "      <th>4</th>\n",
       "      <td>18299.5</td>\n",
       "      <td>26.0</td>\n",
       "      <td>325.557532</td>\n",
       "      <td>18292</td>\n",
       "      <td>4</td>\n",
       "      <td>0.020802</td>\n",
       "      <td>162.535745</td>\n",
       "      <td>18292</td>\n",
       "    </tr>\n",
       "  </tbody>\n",
       "</table>\n",
       "</div>"
      ],
      "text/plain": [
       "      ID_x   day        pred   ID_y  Hour     ratio       Count     ID\n",
       "0  18299.5  26.0  325.557532  18288     0  0.044287  346.027974  18288\n",
       "1  18299.5  26.0  325.557532  18289     1  0.035343  276.148427  18289\n",
       "2  18299.5  26.0  325.557532  18290     2  0.029911  233.706625  18290\n",
       "3  18299.5  26.0  325.557532  18291     3  0.024714  193.103435  18291\n",
       "4  18299.5  26.0  325.557532  18292     4  0.020802  162.535745  18292"
      ]
     },
     "execution_count": 271,
     "metadata": {},
     "output_type": "execute_result"
    }
   ],
   "source": [
    "prediction['ID']=prediction['ID_y']\n",
    "prediction.head()"
   ]
  },
  {
   "cell_type": "code",
   "execution_count": 272,
   "metadata": {},
   "outputs": [
    {
     "data": {
      "text/html": [
       "<div>\n",
       "<style scoped>\n",
       "    .dataframe tbody tr th:only-of-type {\n",
       "        vertical-align: middle;\n",
       "    }\n",
       "\n",
       "    .dataframe tbody tr th {\n",
       "        vertical-align: top;\n",
       "    }\n",
       "\n",
       "    .dataframe thead th {\n",
       "        text-align: right;\n",
       "    }\n",
       "</style>\n",
       "<table border=\"1\" class=\"dataframe\">\n",
       "  <thead>\n",
       "    <tr style=\"text-align: right;\">\n",
       "      <th></th>\n",
       "      <th>Count</th>\n",
       "      <th>ID</th>\n",
       "    </tr>\n",
       "  </thead>\n",
       "  <tbody>\n",
       "    <tr>\n",
       "      <th>0</th>\n",
       "      <td>346.027974</td>\n",
       "      <td>18288</td>\n",
       "    </tr>\n",
       "    <tr>\n",
       "      <th>1</th>\n",
       "      <td>276.148427</td>\n",
       "      <td>18289</td>\n",
       "    </tr>\n",
       "    <tr>\n",
       "      <th>2</th>\n",
       "      <td>233.706625</td>\n",
       "      <td>18290</td>\n",
       "    </tr>\n",
       "    <tr>\n",
       "      <th>3</th>\n",
       "      <td>193.103435</td>\n",
       "      <td>18291</td>\n",
       "    </tr>\n",
       "    <tr>\n",
       "      <th>4</th>\n",
       "      <td>162.535745</td>\n",
       "      <td>18292</td>\n",
       "    </tr>\n",
       "  </tbody>\n",
       "</table>\n",
       "</div>"
      ],
      "text/plain": [
       "        Count     ID\n",
       "0  346.027974  18288\n",
       "1  276.148427  18289\n",
       "2  233.706625  18290\n",
       "3  193.103435  18291\n",
       "4  162.535745  18292"
      ]
     },
     "execution_count": 272,
     "metadata": {},
     "output_type": "execute_result"
    }
   ],
   "source": [
    "prediction=prediction.drop(['ID_x','day','pred','ID_y','Hour','ratio'],1)\n",
    "prediction.head()"
   ]
  },
  {
   "cell_type": "code",
   "execution_count": 277,
   "metadata": {},
   "outputs": [],
   "source": [
    "submission=pd.DataFrame(prediction,columns=['ID','Count'])\n",
    "submission.index=submission.ID\n",
    "del submission['ID']\n"
   ]
  },
  {
   "cell_type": "code",
   "execution_count": 279,
   "metadata": {},
   "outputs": [],
   "source": [
    "submission.to_csv('sub_1.csv')"
   ]
  },
  {
   "cell_type": "code",
   "execution_count": null,
   "metadata": {},
   "outputs": [],
   "source": []
  }
 ],
 "metadata": {
  "kernelspec": {
   "display_name": "Python 3",
   "language": "python",
   "name": "python3"
  },
  "language_info": {
   "codemirror_mode": {
    "name": "ipython",
    "version": 3
   },
   "file_extension": ".py",
   "mimetype": "text/x-python",
   "name": "python",
   "nbconvert_exporter": "python",
   "pygments_lexer": "ipython3",
   "version": "3.7.3"
  }
 },
 "nbformat": 4,
 "nbformat_minor": 2
}
